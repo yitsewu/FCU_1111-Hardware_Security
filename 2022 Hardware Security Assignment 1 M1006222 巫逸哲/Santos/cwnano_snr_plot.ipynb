{
 "cells": [
  {
   "cell_type": "code",
   "execution_count": 1,
   "id": "abade029",
   "metadata": {},
   "outputs": [],
   "source": [
    "SCOPETYPE = 'CWNANO'\n",
    "PLATFORM = 'CWNANO'\n",
    "CRYPTO_TARGET = 'TINYAES128C'\n",
    "VERSION = 'HARDWARE'\n",
    "SS_VER = 'SS_VER_1_1'"
   ]
  },
  {
   "cell_type": "code",
   "execution_count": 2,
   "id": "4579883a",
   "metadata": {},
   "outputs": [
    {
     "name": "stderr",
     "output_type": "stream",
     "text": [
      "(ChipWhisperer NAEUSB WARNING|File naeusb.py:701) Your firmware (0.24) is outdated - latest is 0.62See https://chipwhisperer.readthedocs.io/en/latest/firmware.html for more information\n"
     ]
    },
    {
     "name": "stdout",
     "output_type": "stream",
     "text": [
      "INFO: Found ChipWhisperer😍\n"
     ]
    }
   ],
   "source": [
    "%run \"../Setup_Scripts/Setup_Generic.ipynb\""
   ]
  },
  {
   "cell_type": "code",
   "execution_count": 3,
   "id": "8e31bf9a",
   "metadata": {},
   "outputs": [
    {
     "name": "stdout",
     "output_type": "stream",
     "text": [
      "Building for platform CWNANO with CRYPTO_TARGET=TINYAES128C\r\n",
      "SS_VER set to SS_VER_1_1\r\n",
      "Blank crypto options, building for AES128\r\n",
      "C:/Users/yitsewu/CHIPWH~1/cw/home/portable/avrgcc/bin/make clean_objs .dep \r\n",
      "make[1]: Entering directory 'C:/Users/yitsewu/ChipWhisperer5_64/cw/home/portable/chipwhisperer/hardware/victims/firmware/simpleserial-aes'\r\n",
      "Building for platform CWNANO with CRYPTO_TARGET=TINYAES128C\r\n",
      "SS_VER set to SS_VER_1_1\r\n",
      "Blank crypto options, building for AES128\r\n",
      "rm -f -- simpleserial-aes-CWNANO.hex\r\n",
      "rm -f -- simpleserial-aes-CWNANO.eep\r\n",
      "rm -f -- simpleserial-aes-CWNANO.cof\r\n",
      "rm -f -- simpleserial-aes-CWNANO.elf\r\n",
      "rm -f -- simpleserial-aes-CWNANO.map\r\n",
      "rm -f -- simpleserial-aes-CWNANO.sym\r\n",
      "rm -f -- simpleserial-aes-CWNANO.lss\r\n",
      "rm -f -- objdir-CWNANO/*.o\r\n",
      "rm -f -- objdir-CWNANO/*.lst\r\n",
      "rm -f -- simpleserial-aes.s simpleserial.s stm32f0_hal_nano.s stm32f0_hal_lowlevel.s aes.s aes-independant.s\r\n",
      "rm -f -- simpleserial-aes.d simpleserial.d stm32f0_hal_nano.d stm32f0_hal_lowlevel.d aes.d aes-independant.d\r\n",
      "rm -f -- simpleserial-aes.i simpleserial.i stm32f0_hal_nano.i stm32f0_hal_lowlevel.i aes.i aes-independant.i\r\n",
      "make[1]: '.dep' is up to date.\r\n",
      "make[1]: Leaving directory 'C:/Users/yitsewu/ChipWhisperer5_64/cw/home/portable/chipwhisperer/hardware/victims/firmware/simpleserial-aes'\r\n",
      "C:/Users/yitsewu/CHIPWH~1/cw/home/portable/avrgcc/bin/make begin gccversion build sizeafter fastnote end\r\n",
      "make[1]: Entering directory 'C:/Users/yitsewu/ChipWhisperer5_64/cw/home/portable/chipwhisperer/hardware/victims/firmware/simpleserial-aes'\r\n",
      "Building for platform CWNANO with CRYPTO_TARGET=TINYAES128C\r\n",
      "SS_VER set to SS_VER_1_1\r\n",
      "Blank crypto options, building for AES128\r\n",
      ".\n",
      "Welcome to another exciting ChipWhisperer target build!!\n",
      "arm-none-eabi-gcc (GNU Arm Embedded Toolchain 10-2020-q4-major) 10.2.1 20201103 (release)\r\n",
      "Copyright (C) 2020 Free Software Foundation, Inc.\r\n",
      "This is free software; see the source for copying conditions.  There is NO\r\n",
      "warranty; not even for MERCHANTABILITY or FITNESS FOR A PARTICULAR PURPOSE.\r\n",
      "\r\n",
      ".\n",
      "Compiling C: simpleserial-aes.c\n",
      "arm-none-eabi-gcc -c -mcpu=cortex-m0 -I. -DNO_EXTRA_OPTS -mthumb -mfloat-abi=soft -ffunction-sections -gdwarf-2 -DSS_VER=SS_VER_1_1 -DSTM32F030x6 -DSTM32F0 -DSTM32 -DDEBUG -DHAL_TYPE=HAL_stm32f0_nano -DPLATFORM=CWNANO -DTINYAES128C -DF_CPU=7372800UL -DSS_VER_2_0=2 -DSS_VER_2_1=3 -DSS_VER_1_1=1 -DSS_VER_1_0=0 -Os -funsigned-char -funsigned-bitfields -fshort-enums -Wall -Wstrict-prototypes -Wa,-adhlns=objdir-CWNANO/simpleserial-aes.lst -I.././simpleserial/ -I.././hal -I.././hal/stm32f0 -I.././hal/stm32f0/CMSIS -I.././hal/stm32f0/CMSIS/core -I.././hal/stm32f0/CMSIS/device -I.././hal/stm32f0/Legacy -I.././crypto/ -I.././crypto/tiny-AES128-C -std=gnu99  -MMD -MP -MF .dep/simpleserial-aes.o.d simpleserial-aes.c -o objdir-CWNANO/simpleserial-aes.o\r\n",
      ".\n",
      "Compiling C: .././simpleserial/simpleserial.c\n",
      "arm-none-eabi-gcc -c -mcpu=cortex-m0 -I. -DNO_EXTRA_OPTS -mthumb -mfloat-abi=soft -ffunction-sections -gdwarf-2 -DSS_VER=SS_VER_1_1 -DSTM32F030x6 -DSTM32F0 -DSTM32 -DDEBUG -DHAL_TYPE=HAL_stm32f0_nano -DPLATFORM=CWNANO -DTINYAES128C -DF_CPU=7372800UL -DSS_VER_2_0=2 -DSS_VER_2_1=3 -DSS_VER_1_1=1 -DSS_VER_1_0=0 -Os -funsigned-char -funsigned-bitfields -fshort-enums -Wall -Wstrict-prototypes -Wa,-adhlns=objdir-CWNANO/simpleserial.lst -I.././simpleserial/ -I.././hal -I.././hal/stm32f0 -I.././hal/stm32f0/CMSIS -I.././hal/stm32f0/CMSIS/core -I.././hal/stm32f0/CMSIS/device -I.././hal/stm32f0/Legacy -I.././crypto/ -I.././crypto/tiny-AES128-C -std=gnu99  -MMD -MP -MF .dep/simpleserial.o.d .././simpleserial/simpleserial.c -o objdir-CWNANO/simpleserial.o\r\n",
      ".\n",
      "Compiling C: .././hal/stm32f0_nano/stm32f0_hal_nano.c\n",
      "arm-none-eabi-gcc -c -mcpu=cortex-m0 -I. -DNO_EXTRA_OPTS -mthumb -mfloat-abi=soft -ffunction-sections -gdwarf-2 -DSS_VER=SS_VER_1_1 -DSTM32F030x6 -DSTM32F0 -DSTM32 -DDEBUG -DHAL_TYPE=HAL_stm32f0_nano -DPLATFORM=CWNANO -DTINYAES128C -DF_CPU=7372800UL -DSS_VER_2_0=2 -DSS_VER_2_1=3 -DSS_VER_1_1=1 -DSS_VER_1_0=0 -Os -funsigned-char -funsigned-bitfields -fshort-enums -Wall -Wstrict-prototypes -Wa,-adhlns=objdir-CWNANO/stm32f0_hal_nano.lst -I.././simpleserial/ -I.././hal -I.././hal/stm32f0 -I.././hal/stm32f0/CMSIS -I.././hal/stm32f0/CMSIS/core -I.././hal/stm32f0/CMSIS/device -I.././hal/stm32f0/Legacy -I.././crypto/ -I.././crypto/tiny-AES128-C -std=gnu99  -MMD -MP -MF .dep/stm32f0_hal_nano.o.d .././hal/stm32f0_nano/stm32f0_hal_nano.c -o objdir-CWNANO/stm32f0_hal_nano.o\r\n",
      ".\n",
      "Compiling C: .././hal/stm32f0/stm32f0_hal_lowlevel.c\n",
      "arm-none-eabi-gcc -c -mcpu=cortex-m0 -I. -DNO_EXTRA_OPTS -mthumb -mfloat-abi=soft -ffunction-sections -gdwarf-2 -DSS_VER=SS_VER_1_1 -DSTM32F030x6 -DSTM32F0 -DSTM32 -DDEBUG -DHAL_TYPE=HAL_stm32f0_nano -DPLATFORM=CWNANO -DTINYAES128C -DF_CPU=7372800UL -DSS_VER_2_0=2 -DSS_VER_2_1=3 -DSS_VER_1_1=1 -DSS_VER_1_0=0 -Os -funsigned-char -funsigned-bitfields -fshort-enums -Wall -Wstrict-prototypes -Wa,-adhlns=objdir-CWNANO/stm32f0_hal_lowlevel.lst -I.././simpleserial/ -I.././hal -I.././hal/stm32f0 -I.././hal/stm32f0/CMSIS -I.././hal/stm32f0/CMSIS/core -I.././hal/stm32f0/CMSIS/device -I.././hal/stm32f0/Legacy -I.././crypto/ -I.././crypto/tiny-AES128-C -std=gnu99  -MMD -MP -MF .dep/stm32f0_hal_lowlevel.o.d .././hal/stm32f0/stm32f0_hal_lowlevel.c -o objdir-CWNANO/stm32f0_hal_lowlevel.o\r\n",
      ".\n",
      "Compiling C: .././crypto/tiny-AES128-C/aes.c\n",
      "arm-none-eabi-gcc -c -mcpu=cortex-m0 -I. -DNO_EXTRA_OPTS -mthumb -mfloat-abi=soft -ffunction-sections -gdwarf-2 -DSS_VER=SS_VER_1_1 -DSTM32F030x6 -DSTM32F0 -DSTM32 -DDEBUG -DHAL_TYPE=HAL_stm32f0_nano -DPLATFORM=CWNANO -DTINYAES128C -DF_CPU=7372800UL -DSS_VER_2_0=2 -DSS_VER_2_1=3 -DSS_VER_1_1=1 -DSS_VER_1_0=0 -Os -funsigned-char -funsigned-bitfields -fshort-enums -Wall -Wstrict-prototypes -Wa,-adhlns=objdir-CWNANO/aes.lst -I.././simpleserial/ -I.././hal -I.././hal/stm32f0 -I.././hal/stm32f0/CMSIS -I.././hal/stm32f0/CMSIS/core -I.././hal/stm32f0/CMSIS/device -I.././hal/stm32f0/Legacy -I.././crypto/ -I.././crypto/tiny-AES128-C -std=gnu99  -MMD -MP -MF .dep/aes.o.d .././crypto/tiny-AES128-C/aes.c -o objdir-CWNANO/aes.o\r\n",
      ".\n",
      "Compiling C: .././crypto/aes-independant.c\n",
      "arm-none-eabi-gcc -c -mcpu=cortex-m0 -I. -DNO_EXTRA_OPTS -mthumb -mfloat-abi=soft -ffunction-sections -gdwarf-2 -DSS_VER=SS_VER_1_1 -DSTM32F030x6 -DSTM32F0 -DSTM32 -DDEBUG -DHAL_TYPE=HAL_stm32f0_nano -DPLATFORM=CWNANO -DTINYAES128C -DF_CPU=7372800UL -DSS_VER_2_0=2 -DSS_VER_2_1=3 -DSS_VER_1_1=1 -DSS_VER_1_0=0 -Os -funsigned-char -funsigned-bitfields -fshort-enums -Wall -Wstrict-prototypes -Wa,-adhlns=objdir-CWNANO/aes-independant.lst -I.././simpleserial/ -I.././hal -I.././hal/stm32f0 -I.././hal/stm32f0/CMSIS -I.././hal/stm32f0/CMSIS/core -I.././hal/stm32f0/CMSIS/device -I.././hal/stm32f0/Legacy -I.././crypto/ -I.././crypto/tiny-AES128-C -std=gnu99  -MMD -MP -MF .dep/aes-independant.o.d .././crypto/aes-independant.c -o objdir-CWNANO/aes-independant.o\r\n",
      ".\n",
      "Assembling: .././hal/stm32f0/stm32f0_startup.S\n",
      "arm-none-eabi-gcc -c -mcpu=cortex-m0 -I. -x assembler-with-cpp -mthumb -mfloat-abi=soft -ffunction-sections -DF_CPU=7372800 -Wa,-gstabs,-adhlns=objdir-CWNANO/stm32f0_startup.lst -I.././simpleserial/ -I.././hal -I.././hal/stm32f0 -I.././hal/stm32f0/CMSIS -I.././hal/stm32f0/CMSIS/core -I.././hal/stm32f0/CMSIS/device -I.././hal/stm32f0/Legacy -I.././crypto/ -I.././crypto/tiny-AES128-C .././hal/stm32f0/stm32f0_startup.S -o objdir-CWNANO/stm32f0_startup.o\r\n",
      ".\n",
      "Linking: simpleserial-aes-CWNANO.elf\n",
      "arm-none-eabi-gcc -mcpu=cortex-m0 -I. -DNO_EXTRA_OPTS -mthumb -mfloat-abi=soft -ffunction-sections -gdwarf-2 -DSS_VER=SS_VER_1_1 -DSTM32F030x6 -DSTM32F0 -DSTM32 -DDEBUG -DHAL_TYPE=HAL_stm32f0_nano -DPLATFORM=CWNANO -DTINYAES128C -DF_CPU=7372800UL -DSS_VER_2_0=2 -DSS_VER_2_1=3 -DSS_VER_1_1=1 -DSS_VER_1_0=0 -Os -funsigned-char -funsigned-bitfields -fshort-enums -Wall -Wstrict-prototypes -Wa,-adhlns=objdir-CWNANO/simpleserial-aes.o -I.././simpleserial/ -I.././hal -I.././hal/stm32f0 -I.././hal/stm32f0/CMSIS -I.././hal/stm32f0/CMSIS/core -I.././hal/stm32f0/CMSIS/device -I.././hal/stm32f0/Legacy -I.././crypto/ -I.././crypto/tiny-AES128-C -std=gnu99  -MMD -MP -MF .dep/simpleserial-aes-CWNANO.elf.d objdir-CWNANO/simpleserial-aes.o objdir-CWNANO/simpleserial.o objdir-CWNANO/stm32f0_hal_nano.o objdir-CWNANO/stm32f0_hal_lowlevel.o objdir-CWNANO/aes.o objdir-CWNANO/aes-independant.o objdir-CWNANO/stm32f0_startup.o --output simpleserial-aes-CWNANO.elf --specs=nano.specs --specs=nosys.specs -T .././hal/stm32f0_nano/LinkerScript.ld -Wl,--gc-sections -lm -mthumb -mcpu=cortex-m0  -Wl,-Map=simpleserial-aes-CWNANO.map,--cref   -lm  \r\n",
      ".\n",
      "Creating load file for Flash: simpleserial-aes-CWNANO.hex\n",
      "arm-none-eabi-objcopy -O ihex -R .eeprom -R .fuse -R .lock -R .signature simpleserial-aes-CWNANO.elf simpleserial-aes-CWNANO.hex\r\n",
      ".\n",
      "Creating load file for Flash: simpleserial-aes-CWNANO.bin\n",
      "arm-none-eabi-objcopy -O binary -R .eeprom -R .fuse -R .lock -R .signature simpleserial-aes-CWNANO.elf simpleserial-aes-CWNANO.bin\r\n",
      ".\n",
      "Creating load file for EEPROM: simpleserial-aes-CWNANO.eep\n",
      "arm-none-eabi-objcopy -j .eeprom --set-section-flags=.eeprom=\"alloc,load\" \\\r\n",
      "--change-section-lma .eeprom=0 --no-change-warnings -O ihex simpleserial-aes-CWNANO.elf simpleserial-aes-CWNANO.eep || exit 0\r\n",
      ".\n",
      "Creating Extended Listing: simpleserial-aes-CWNANO.lss\n",
      "arm-none-eabi-objdump -h -S -z simpleserial-aes-CWNANO.elf > simpleserial-aes-CWNANO.lss\r\n",
      ".\n",
      "Creating Symbol Table: simpleserial-aes-CWNANO.sym\n",
      "arm-none-eabi-nm -n simpleserial-aes-CWNANO.elf > simpleserial-aes-CWNANO.sym\r\n",
      "Size after:\n",
      "   text\t   data\t    bss\t    dec\t    hex\tfilename\r\n",
      "   5432\t    540\t   1628\t   7600\t   1db0\tsimpleserial-aes-CWNANO.elf\r\n",
      "+--------------------------------------------------------\n",
      "+ Default target does full rebuild each time.\n",
      "+ Specify buildtarget == allquick == to avoid full rebuild\n",
      "+--------------------------------------------------------\n",
      "+--------------------------------------------------------\n",
      "+ Built for platform CWNANO Built-in Target (STM32F030) with:\n",
      "+ CRYPTO_TARGET = TINYAES128C\n",
      "+ CRYPTO_OPTIONS = AES128C\n",
      "+--------------------------------------------------------\n",
      "make[1]: Leaving directory 'C:/Users/yitsewu/ChipWhisperer5_64/cw/home/portable/chipwhisperer/hardware/victims/firmware/simpleserial-aes'\r\n"
     ]
    }
   ],
   "source": [
    "%%bash -s \"$PLATFORM\" \"$CRYPTO_TARGET\" \"$SS_VER\"\n",
    "cd ../../hardware/victims/firmware/simpleserial-aes\n",
    "make PLATFORM=$1 CRYPTO_TARGET=$2 SS_VER=$3"
   ]
  },
  {
   "cell_type": "code",
   "execution_count": 4,
   "id": "de3f2673",
   "metadata": {},
   "outputs": [
    {
     "name": "stdout",
     "output_type": "stream",
     "text": [
      "Detected known STMF32: STM32F04xxx\n",
      "Extended erase (0x44), this can take ten seconds or more\n",
      "Attempting to program 5971 bytes at 0x8000000\n",
      "STM32F Programming flash...\n",
      "STM32F Reading flash...\n",
      "Verified flash OK, 5971 bytes\n"
     ]
    }
   ],
   "source": [
    "fw_path = '../../hardware/victims/firmware/simpleserial-aes/simpleserial-aes-{}.hex'.format(PLATFORM)\n",
    "cw.program_target(scope, prog, fw_path)"
   ]
  },
  {
   "cell_type": "code",
   "execution_count": 5,
   "id": "57d04b53",
   "metadata": {},
   "outputs": [
    {
     "data": {
      "application/vnd.jupyter.widget-view+json": {
       "model_id": "57789cfcebec42fbac3edc92f549a252",
       "version_major": 2,
       "version_minor": 0
      },
      "text/plain": [
       "Capturing traces:   0%|          | 0/300 [00:00<?, ?it/s]"
      ]
     },
     "metadata": {},
     "output_type": "display_data"
    },
    {
     "name": "stdout",
     "output_type": "stream",
     "text": [
      "Number of samples = 5000\n"
     ]
    }
   ],
   "source": [
    "#Capture Traces\n",
    "from tqdm.notebook import trange\n",
    "import numpy as np\n",
    "import time\n",
    "\n",
    "ktp = cw.ktp.Basic()\n",
    "\n",
    "traces = []\n",
    "trace_num = 300  # Number of traces\n",
    "\n",
    "proj_name = f\"traces/CWNANO_{CRYPTO_TARGET}_{trace_num}_fixedkey.cwp\"\n",
    "project = cw.create_project(proj_name, overwrite=True)\n",
    "\n",
    "for i in trange(trace_num, desc='Capturing traces'):\n",
    "    key, text = ktp.next()  # manual creation of a key, text pair can be substituted here\n",
    "\n",
    "    trace = cw.capture_trace(scope, target, text, key)\n",
    "    if trace is None:\n",
    "        continue\n",
    "    project.traces.append(trace)\n",
    "\n",
    "print(f'Number of samples = {scope.adc.samples}')\n",
    "project.save()"
   ]
  },
  {
   "cell_type": "code",
   "execution_count": 6,
   "id": "28165a68",
   "metadata": {},
   "outputs": [],
   "source": [
    "scope.dis()\n",
    "target.dis()"
   ]
  },
  {
   "cell_type": "code",
   "execution_count": 7,
   "id": "2f571fb7",
   "metadata": {},
   "outputs": [
    {
     "data": {
      "text/html": [
       "<style type=\"text/css\">\n",
       "#T_847f9_row1_col0, #T_847f9_row1_col1, #T_847f9_row1_col2, #T_847f9_row1_col3, #T_847f9_row1_col4, #T_847f9_row1_col5, #T_847f9_row1_col6, #T_847f9_row1_col7, #T_847f9_row1_col8, #T_847f9_row1_col9, #T_847f9_row1_col10, #T_847f9_row1_col11, #T_847f9_row1_col12, #T_847f9_row1_col13, #T_847f9_row1_col14, #T_847f9_row1_col15 {\n",
       "  color: red;\n",
       "}\n",
       "</style>\n",
       "<table id=\"T_847f9_\">\n",
       "  <caption>Finished traces 275 to 300</caption>\n",
       "  <thead>\n",
       "    <tr>\n",
       "      <th class=\"blank level0\" >&nbsp;</th>\n",
       "      <th class=\"col_heading level0 col0\" >0</th>\n",
       "      <th class=\"col_heading level0 col1\" >1</th>\n",
       "      <th class=\"col_heading level0 col2\" >2</th>\n",
       "      <th class=\"col_heading level0 col3\" >3</th>\n",
       "      <th class=\"col_heading level0 col4\" >4</th>\n",
       "      <th class=\"col_heading level0 col5\" >5</th>\n",
       "      <th class=\"col_heading level0 col6\" >6</th>\n",
       "      <th class=\"col_heading level0 col7\" >7</th>\n",
       "      <th class=\"col_heading level0 col8\" >8</th>\n",
       "      <th class=\"col_heading level0 col9\" >9</th>\n",
       "      <th class=\"col_heading level0 col10\" >10</th>\n",
       "      <th class=\"col_heading level0 col11\" >11</th>\n",
       "      <th class=\"col_heading level0 col12\" >12</th>\n",
       "      <th class=\"col_heading level0 col13\" >13</th>\n",
       "      <th class=\"col_heading level0 col14\" >14</th>\n",
       "      <th class=\"col_heading level0 col15\" >15</th>\n",
       "    </tr>\n",
       "  </thead>\n",
       "  <tbody>\n",
       "    <tr>\n",
       "      <th id=\"T_847f9_level0_row0\" class=\"row_heading level0 row0\" >PGE=</th>\n",
       "      <td id=\"T_847f9_row0_col0\" class=\"data row0 col0\" >0</td>\n",
       "      <td id=\"T_847f9_row0_col1\" class=\"data row0 col1\" >0</td>\n",
       "      <td id=\"T_847f9_row0_col2\" class=\"data row0 col2\" >0</td>\n",
       "      <td id=\"T_847f9_row0_col3\" class=\"data row0 col3\" >0</td>\n",
       "      <td id=\"T_847f9_row0_col4\" class=\"data row0 col4\" >0</td>\n",
       "      <td id=\"T_847f9_row0_col5\" class=\"data row0 col5\" >0</td>\n",
       "      <td id=\"T_847f9_row0_col6\" class=\"data row0 col6\" >0</td>\n",
       "      <td id=\"T_847f9_row0_col7\" class=\"data row0 col7\" >0</td>\n",
       "      <td id=\"T_847f9_row0_col8\" class=\"data row0 col8\" >0</td>\n",
       "      <td id=\"T_847f9_row0_col9\" class=\"data row0 col9\" >0</td>\n",
       "      <td id=\"T_847f9_row0_col10\" class=\"data row0 col10\" >0</td>\n",
       "      <td id=\"T_847f9_row0_col11\" class=\"data row0 col11\" >0</td>\n",
       "      <td id=\"T_847f9_row0_col12\" class=\"data row0 col12\" >0</td>\n",
       "      <td id=\"T_847f9_row0_col13\" class=\"data row0 col13\" >0</td>\n",
       "      <td id=\"T_847f9_row0_col14\" class=\"data row0 col14\" >0</td>\n",
       "      <td id=\"T_847f9_row0_col15\" class=\"data row0 col15\" >0</td>\n",
       "    </tr>\n",
       "    <tr>\n",
       "      <th id=\"T_847f9_level0_row1\" class=\"row_heading level0 row1\" >0</th>\n",
       "      <td id=\"T_847f9_row1_col0\" class=\"data row1 col0\" >2B<br>0.940</td>\n",
       "      <td id=\"T_847f9_row1_col1\" class=\"data row1 col1\" >7E<br>0.934</td>\n",
       "      <td id=\"T_847f9_row1_col2\" class=\"data row1 col2\" >15<br>0.927</td>\n",
       "      <td id=\"T_847f9_row1_col3\" class=\"data row1 col3\" >16<br>0.931</td>\n",
       "      <td id=\"T_847f9_row1_col4\" class=\"data row1 col4\" >28<br>0.924</td>\n",
       "      <td id=\"T_847f9_row1_col5\" class=\"data row1 col5\" >AE<br>0.933</td>\n",
       "      <td id=\"T_847f9_row1_col6\" class=\"data row1 col6\" >D2<br>0.935</td>\n",
       "      <td id=\"T_847f9_row1_col7\" class=\"data row1 col7\" >A6<br>0.943</td>\n",
       "      <td id=\"T_847f9_row1_col8\" class=\"data row1 col8\" >AB<br>0.932</td>\n",
       "      <td id=\"T_847f9_row1_col9\" class=\"data row1 col9\" >F7<br>0.940</td>\n",
       "      <td id=\"T_847f9_row1_col10\" class=\"data row1 col10\" >15<br>0.931</td>\n",
       "      <td id=\"T_847f9_row1_col11\" class=\"data row1 col11\" >88<br>0.938</td>\n",
       "      <td id=\"T_847f9_row1_col12\" class=\"data row1 col12\" >09<br>0.940</td>\n",
       "      <td id=\"T_847f9_row1_col13\" class=\"data row1 col13\" >CF<br>0.931</td>\n",
       "      <td id=\"T_847f9_row1_col14\" class=\"data row1 col14\" >4F<br>0.923</td>\n",
       "      <td id=\"T_847f9_row1_col15\" class=\"data row1 col15\" >3C<br>0.933</td>\n",
       "    </tr>\n",
       "    <tr>\n",
       "      <th id=\"T_847f9_level0_row2\" class=\"row_heading level0 row2\" >1</th>\n",
       "      <td id=\"T_847f9_row2_col0\" class=\"data row2 col0\" >18<br>0.297</td>\n",
       "      <td id=\"T_847f9_row2_col1\" class=\"data row2 col1\" >3F<br>0.345</td>\n",
       "      <td id=\"T_847f9_row2_col2\" class=\"data row2 col2\" >26<br>0.307</td>\n",
       "      <td id=\"T_847f9_row2_col3\" class=\"data row2 col3\" >55<br>0.323</td>\n",
       "      <td id=\"T_847f9_row2_col4\" class=\"data row2 col4\" >F4<br>0.340</td>\n",
       "      <td id=\"T_847f9_row2_col5\" class=\"data row2 col5\" >DC<br>0.322</td>\n",
       "      <td id=\"T_847f9_row2_col6\" class=\"data row2 col6\" >ED<br>0.343</td>\n",
       "      <td id=\"T_847f9_row2_col7\" class=\"data row2 col7\" >EB<br>0.341</td>\n",
       "      <td id=\"T_847f9_row2_col8\" class=\"data row2 col8\" >A8<br>0.314</td>\n",
       "      <td id=\"T_847f9_row2_col9\" class=\"data row2 col9\" >36<br>0.303</td>\n",
       "      <td id=\"T_847f9_row2_col10\" class=\"data row2 col10\" >89<br>0.292</td>\n",
       "      <td id=\"T_847f9_row2_col11\" class=\"data row2 col11\" >7D<br>0.298</td>\n",
       "      <td id=\"T_847f9_row2_col12\" class=\"data row2 col12\" >FC<br>0.368</td>\n",
       "      <td id=\"T_847f9_row2_col13\" class=\"data row2 col13\" >BA<br>0.328</td>\n",
       "      <td id=\"T_847f9_row2_col14\" class=\"data row2 col14\" >30<br>0.298</td>\n",
       "      <td id=\"T_847f9_row2_col15\" class=\"data row2 col15\" >1B<br>0.324</td>\n",
       "    </tr>\n",
       "    <tr>\n",
       "      <th id=\"T_847f9_level0_row3\" class=\"row_heading level0 row3\" >2</th>\n",
       "      <td id=\"T_847f9_row3_col0\" class=\"data row3 col0\" >A9<br>0.296</td>\n",
       "      <td id=\"T_847f9_row3_col1\" class=\"data row3 col1\" >B4<br>0.315</td>\n",
       "      <td id=\"T_847f9_row3_col2\" class=\"data row3 col2\" >CE<br>0.289</td>\n",
       "      <td id=\"T_847f9_row3_col3\" class=\"data row3 col3\" >C5<br>0.290</td>\n",
       "      <td id=\"T_847f9_row3_col4\" class=\"data row3 col4\" >4F<br>0.326</td>\n",
       "      <td id=\"T_847f9_row3_col5\" class=\"data row3 col5\" >34<br>0.295</td>\n",
       "      <td id=\"T_847f9_row3_col6\" class=\"data row3 col6\" >F6<br>0.302</td>\n",
       "      <td id=\"T_847f9_row3_col7\" class=\"data row3 col7\" >24<br>0.297</td>\n",
       "      <td id=\"T_847f9_row3_col8\" class=\"data row3 col8\" >01<br>0.288</td>\n",
       "      <td id=\"T_847f9_row3_col9\" class=\"data row3 col9\" >F0<br>0.286</td>\n",
       "      <td id=\"T_847f9_row3_col10\" class=\"data row3 col10\" >B0<br>0.285</td>\n",
       "      <td id=\"T_847f9_row3_col11\" class=\"data row3 col11\" >97<br>0.281</td>\n",
       "      <td id=\"T_847f9_row3_col12\" class=\"data row3 col12\" >A7<br>0.323</td>\n",
       "      <td id=\"T_847f9_row3_col13\" class=\"data row3 col13\" >E6<br>0.320</td>\n",
       "      <td id=\"T_847f9_row3_col14\" class=\"data row3 col14\" >71<br>0.282</td>\n",
       "      <td id=\"T_847f9_row3_col15\" class=\"data row3 col15\" >C1<br>0.312</td>\n",
       "    </tr>\n",
       "    <tr>\n",
       "      <th id=\"T_847f9_level0_row4\" class=\"row_heading level0 row4\" >3</th>\n",
       "      <td id=\"T_847f9_row4_col0\" class=\"data row4 col0\" >CC<br>0.279</td>\n",
       "      <td id=\"T_847f9_row4_col1\" class=\"data row4 col1\" >EA<br>0.298</td>\n",
       "      <td id=\"T_847f9_row4_col2\" class=\"data row4 col2\" >61<br>0.288</td>\n",
       "      <td id=\"T_847f9_row4_col3\" class=\"data row4 col3\" >D6<br>0.286</td>\n",
       "      <td id=\"T_847f9_row4_col4\" class=\"data row4 col4\" >2F<br>0.310</td>\n",
       "      <td id=\"T_847f9_row4_col5\" class=\"data row4 col5\" >2D<br>0.292</td>\n",
       "      <td id=\"T_847f9_row4_col6\" class=\"data row4 col6\" >E1<br>0.292</td>\n",
       "      <td id=\"T_847f9_row4_col7\" class=\"data row4 col7\" >BB<br>0.275</td>\n",
       "      <td id=\"T_847f9_row4_col8\" class=\"data row4 col8\" >20<br>0.285</td>\n",
       "      <td id=\"T_847f9_row4_col9\" class=\"data row4 col9\" >29<br>0.279</td>\n",
       "      <td id=\"T_847f9_row4_col10\" class=\"data row4 col10\" >FD<br>0.282</td>\n",
       "      <td id=\"T_847f9_row4_col11\" class=\"data row4 col11\" >7E<br>0.281</td>\n",
       "      <td id=\"T_847f9_row4_col12\" class=\"data row4 col12\" >B0<br>0.310</td>\n",
       "      <td id=\"T_847f9_row4_col13\" class=\"data row4 col13\" >72<br>0.312</td>\n",
       "      <td id=\"T_847f9_row4_col14\" class=\"data row4 col14\" >2E<br>0.275</td>\n",
       "      <td id=\"T_847f9_row4_col15\" class=\"data row4 col15\" >C9<br>0.296</td>\n",
       "    </tr>\n",
       "    <tr>\n",
       "      <th id=\"T_847f9_level0_row5\" class=\"row_heading level0 row5\" >4</th>\n",
       "      <td id=\"T_847f9_row5_col0\" class=\"data row5 col0\" >3D<br>0.271</td>\n",
       "      <td id=\"T_847f9_row5_col1\" class=\"data row5 col1\" >C0<br>0.297</td>\n",
       "      <td id=\"T_847f9_row5_col2\" class=\"data row5 col2\" >C1<br>0.280</td>\n",
       "      <td id=\"T_847f9_row5_col3\" class=\"data row5 col3\" >BC<br>0.285</td>\n",
       "      <td id=\"T_847f9_row5_col4\" class=\"data row5 col4\" >8D<br>0.298</td>\n",
       "      <td id=\"T_847f9_row5_col5\" class=\"data row5 col5\" >AD<br>0.292</td>\n",
       "      <td id=\"T_847f9_row5_col6\" class=\"data row5 col6\" >07<br>0.283</td>\n",
       "      <td id=\"T_847f9_row5_col7\" class=\"data row5 col7\" >5F<br>0.272</td>\n",
       "      <td id=\"T_847f9_row5_col8\" class=\"data row5 col8\" >9E<br>0.279</td>\n",
       "      <td id=\"T_847f9_row5_col9\" class=\"data row5 col9\" >1D<br>0.272</td>\n",
       "      <td id=\"T_847f9_row5_col10\" class=\"data row5 col10\" >5F<br>0.277</td>\n",
       "      <td id=\"T_847f9_row5_col11\" class=\"data row5 col11\" >08<br>0.278</td>\n",
       "      <td id=\"T_847f9_row5_col12\" class=\"data row5 col12\" >76<br>0.290</td>\n",
       "      <td id=\"T_847f9_row5_col13\" class=\"data row5 col13\" >56<br>0.302</td>\n",
       "      <td id=\"T_847f9_row5_col14\" class=\"data row5 col14\" >BA<br>0.270</td>\n",
       "      <td id=\"T_847f9_row5_col15\" class=\"data row5 col15\" >EB<br>0.291</td>\n",
       "    </tr>\n",
       "  </tbody>\n",
       "</table>\n"
      ],
      "text/plain": [
       "<pandas.io.formats.style.Styler at 0x25d625d33c8>"
      ]
     },
     "metadata": {},
     "output_type": "display_data"
    }
   ],
   "source": [
    "import chipwhisperer.analyzer as cwa\n",
    "#pick right leakage model for your attack\n",
    "leak_model = cwa.leakage_models.sbox_output\n",
    "attack = cwa.cpa(project, leak_model)\n",
    "results = attack.run(cwa.get_jupyter_callback(attack))"
   ]
  },
  {
   "cell_type": "code",
   "execution_count": 8,
   "id": "29c81c7f",
   "metadata": {},
   "outputs": [],
   "source": [
    "# snr = cwa.calculate_snr(project.traces, leak_model, bnum=1, db=False)\n",
    "# cw.plot(snr)"
   ]
  },
  {
   "cell_type": "code",
   "execution_count": 9,
   "id": "c82c7c93",
   "metadata": {},
   "outputs": [
    {
     "name": "stdout",
     "output_type": "stream",
     "text": [
      "[ 43 126  21  22  40 174 210 166 171 247  21 136   9 207  79  60]\n"
     ]
    }
   ],
   "source": [
    "print(project.keys[0])"
   ]
  },
  {
   "cell_type": "code",
   "execution_count": 10,
   "id": "0151a542",
   "metadata": {},
   "outputs": [],
   "source": [
    "# cw.plot(project.waves[0])"
   ]
  },
  {
   "cell_type": "code",
   "execution_count": 11,
   "id": "92b680ab",
   "metadata": {},
   "outputs": [],
   "source": [
    "# The AES SBox that we will use to generate our labels\n",
    "AES_Sbox = np.array([\n",
    "            0x63, 0x7C, 0x77, 0x7B, 0xF2, 0x6B, 0x6F, 0xC5, 0x30, 0x01, 0x67, 0x2B, 0xFE, 0xD7, 0xAB, 0x76,\n",
    "            0xCA, 0x82, 0xC9, 0x7D, 0xFA, 0x59, 0x47, 0xF0, 0xAD, 0xD4, 0xA2, 0xAF, 0x9C, 0xA4, 0x72, 0xC0,\n",
    "            0xB7, 0xFD, 0x93, 0x26, 0x36, 0x3F, 0xF7, 0xCC, 0x34, 0xA5, 0xE5, 0xF1, 0x71, 0xD8, 0x31, 0x15,\n",
    "            0x04, 0xC7, 0x23, 0xC3, 0x18, 0x96, 0x05, 0x9A, 0x07, 0x12, 0x80, 0xE2, 0xEB, 0x27, 0xB2, 0x75,\n",
    "            0x09, 0x83, 0x2C, 0x1A, 0x1B, 0x6E, 0x5A, 0xA0, 0x52, 0x3B, 0xD6, 0xB3, 0x29, 0xE3, 0x2F, 0x84,\n",
    "            0x53, 0xD1, 0x00, 0xED, 0x20, 0xFC, 0xB1, 0x5B, 0x6A, 0xCB, 0xBE, 0x39, 0x4A, 0x4C, 0x58, 0xCF,\n",
    "            0xD0, 0xEF, 0xAA, 0xFB, 0x43, 0x4D, 0x33, 0x85, 0x45, 0xF9, 0x02, 0x7F, 0x50, 0x3C, 0x9F, 0xA8,\n",
    "            0x51, 0xA3, 0x40, 0x8F, 0x92, 0x9D, 0x38, 0xF5, 0xBC, 0xB6, 0xDA, 0x21, 0x10, 0xFF, 0xF3, 0xD2,\n",
    "            0xCD, 0x0C, 0x13, 0xEC, 0x5F, 0x97, 0x44, 0x17, 0xC4, 0xA7, 0x7E, 0x3D, 0x64, 0x5D, 0x19, 0x73,\n",
    "            0x60, 0x81, 0x4F, 0xDC, 0x22, 0x2A, 0x90, 0x88, 0x46, 0xEE, 0xB8, 0x14, 0xDE, 0x5E, 0x0B, 0xDB,\n",
    "            0xE0, 0x32, 0x3A, 0x0A, 0x49, 0x06, 0x24, 0x5C, 0xC2, 0xD3, 0xAC, 0x62, 0x91, 0x95, 0xE4, 0x79,\n",
    "            0xE7, 0xC8, 0x37, 0x6D, 0x8D, 0xD5, 0x4E, 0xA9, 0x6C, 0x56, 0xF4, 0xEA, 0x65, 0x7A, 0xAE, 0x08,\n",
    "            0xBA, 0x78, 0x25, 0x2E, 0x1C, 0xA6, 0xB4, 0xC6, 0xE8, 0xDD, 0x74, 0x1F, 0x4B, 0xBD, 0x8B, 0x8A,\n",
    "            0x70, 0x3E, 0xB5, 0x66, 0x48, 0x03, 0xF6, 0x0E, 0x61, 0x35, 0x57, 0xB9, 0x86, 0xC1, 0x1D, 0x9E,\n",
    "            0xE1, 0xF8, 0x98, 0x11, 0x69, 0xD9, 0x8E, 0x94, 0x9B, 0x1E, 0x87, 0xE9, 0xCE, 0x55, 0x28, 0xDF,\n",
    "            0x8C, 0xA1, 0x89, 0x0D, 0xBF, 0xE6, 0x42, 0x68, 0x41, 0x99, 0x2D, 0x0F, 0xB0, 0x54, 0xBB, 0x16\n",
    "            ])\n",
    "# The Hamming weight list of each byte value\n",
    "hw_list = np.array([\n",
    "            0, 1, 1, 2, 1, 2, 2, 3, 1, 2, 2, 3, 2, 3, 3, 4, 1, 2, 2, 3, 2, 3, 3, 4, 2, 3, 3, 4, 3, 4, 4, 5, \n",
    "            1, 2, 2, 3, 2, 3, 3, 4, 2, 3, 3, 4, 3, 4, 4, 5, 2, 3, 3, 4, 3, 4, 4, 5, 3, 4, 4, 5, 4, 5, 5, 6, \n",
    "            1, 2, 2, 3, 2, 3, 3, 4, 2, 3, 3, 4, 3, 4, 4, 5, 2, 3, 3, 4, 3, 4, 4, 5, 3, 4, 4, 5, 4, 5, 5, 6, \n",
    "            2, 3, 3, 4, 3, 4, 4, 5, 3, 4, 4, 5, 4, 5, 5, 6, 3, 4, 4, 5, 4, 5, 5, 6, 4, 5, 5, 6, 5, 6, 6, 7, \n",
    "            1, 2, 2, 3, 2, 3, 3, 4, 2, 3, 3, 4, 3, 4, 4, 5, 2, 3, 3, 4, 3, 4, 4, 5, 3, 4, 4, 5, 4, 5, 5, 6,\n",
    "            2, 3, 3, 4, 3, 4, 4, 5, 3, 4, 4, 5, 4, 5, 5, 6, 3, 4, 4, 5, 4, 5, 5, 6, 4, 5, 5, 6, 5, 6, 6, 7,\n",
    "            2, 3, 3, 4, 3, 4, 4, 5, 3, 4, 4, 5, 4, 5, 5, 6, 3, 4, 4, 5, 4, 5, 5, 6, 4, 5, 5, 6, 5, 6, 6, 7,\n",
    "            3, 4, 4, 5, 4, 5, 5, 6, 4, 5, 5, 6, 5, 6, 6, 7, 4, 5, 5, 6, 5, 6, 6, 7, 5, 6, 6, 7, 6, 7, 7, 8\n",
    "            ])\n",
    "# Number of combinations for each Hamming weight\n",
    "hw_combinations = np.array([1, 8, 28, 56, 70, 56, 28, 8, 1])"
   ]
  },
  {
   "cell_type": "code",
   "execution_count": 12,
   "id": "c9ab56e3",
   "metadata": {},
   "outputs": [
    {
     "name": "stdout",
     "output_type": "stream",
     "text": [
      "(300, 5000)\n",
      "300 trace, each with 5000 points.\n"
     ]
    }
   ],
   "source": [
    "t = np.array(project.waves)\n",
    "p = np.array(project.textins)\n",
    "k = np.array(project.keys)\n",
    "# c = np.array(proj.textouts)\n",
    "\n",
    "print(t.shape)\n",
    "(trace_num, trace_len) = t.shape\n",
    "print(f'{trace_num} trace, each with {trace_len} points.')"
   ]
  },
  {
   "cell_type": "code",
   "execution_count": 13,
   "id": "4de4899c",
   "metadata": {},
   "outputs": [],
   "source": [
    "byte_num = 16\n",
    "key_num = 256\n",
    "h_sum = np.zeros((byte_num, key_num))\n",
    "h2_sum = np.zeros((byte_num, key_num))\n",
    "t_sum = np.zeros((1, trace_len))\n",
    "t2_sum = np.zeros((1, trace_len))\n",
    "h_t_sum = np.zeros((byte_num, key_num, trace_len))\n",
    "r = np.zeros((byte_num, key_num, trace_len))\n",
    "key_guess = np.zeros(byte_num)"
   ]
  },
  {
   "cell_type": "code",
   "execution_count": 14,
   "id": "723391b5",
   "metadata": {},
   "outputs": [
    {
     "name": "stdout",
     "output_type": "stream",
     "text": [
      "[4 4 4 5 5 5 6 3 5 1 4 5 5 5 4 4 2 4 3 2 4 2 3 3 4 5 3 4 4 3 3 5 2 2 2 3 5\n",
      " 5 2 2 3 6 6 5 4 2 3 6 2 4 6 5 3 5 5 2 3 5 3 5 6 5 3 5 2 3 7 5 3 3 3 3 6 3\n",
      " 3 3 4 4 2 4 4 3 4 5 3 2 4 5 2 7 5 4 4 5 5 4 6 3 2 2 5 4 3 5 4 5 3 3 5 5 3\n",
      " 4 4 4 3 4 3 4 5 4 4 3 4 6 4 5 4 6 2 4 2 4 3 4 1 5 4 5 6 4 1 4 3 2 7 4 4 6\n",
      " 4 3 6 7 3 3 4 4 5 5 3 4 4 4 6 4 4 6 4 2 4 2 4 3 3 6 5 4 6 4 5 5 6 6 4 5 5\n",
      " 5 7 6 5 4 2 1 3 6 3 5 1 5 3 4 6 4 1 8 5 2 5 5 4 3 3 4 4 7 3 7 6 3 2 4 1 7\n",
      " 3 6 4 5 1 6 0 6 4 4 3 6 3 3 6 4 4 5 4 2 4 5 3 3 2 3 5 2 3 5 5 5 3 5]\n"
     ]
    }
   ],
   "source": [
    "print(hw_list[AES_Sbox[p[0, 0] ^ np.arange(key_num)]])"
   ]
  },
  {
   "cell_type": "code",
   "execution_count": null,
   "id": "6d46114b",
   "metadata": {},
   "outputs": [
    {
     "name": "stderr",
     "output_type": "stream",
     "text": [
      "C:\\Users\\yitsewu\\CHIPWH~1\\cw\\home\\portable\\WPy64-3771\\python-3.7.7.amd64\\lib\\site-packages\\ipykernel_launcher.py:5: RuntimeWarning: invalid value encountered in sqrt\n",
      "  \"\"\"\n",
      "C:\\Users\\yitsewu\\CHIPWH~1\\cw\\home\\portable\\WPy64-3771\\python-3.7.7.amd64\\lib\\site-packages\\ipykernel_launcher.py:14: RuntimeWarning: invalid value encountered in sqrt\n",
      "  \n",
      "C:\\Users\\yitsewu\\CHIPWH~1\\cw\\home\\portable\\WPy64-3771\\python-3.7.7.amd64\\lib\\site-packages\\ipykernel_launcher.py:15: RuntimeWarning: invalid value encountered in true_divide\n",
      "  from ipykernel import kernelapp as app\n"
     ]
    },
    {
     "name": "stdout",
     "output_type": "stream",
     "text": [
      "[0. 0. 0. 0. 0. 0. 0. 0. 0. 0. 0. 0. 0. 0. 0. 0.]\n"
     ]
    },
    {
     "name": "stderr",
     "output_type": "stream",
     "text": [
      "C:\\Users\\yitsewu\\CHIPWH~1\\cw\\home\\portable\\WPy64-3771\\python-3.7.7.amd64\\lib\\site-packages\\ipykernel_launcher.py:15: RuntimeWarning: divide by zero encountered in true_divide\n",
      "  from ipykernel import kernelapp as app\n"
     ]
    },
    {
     "name": "stdout",
     "output_type": "stream",
     "text": [
      "[0. 0. 0. 0. 0. 0. 0. 0. 0. 0. 0. 0. 0. 0. 0. 0.]\n",
      "[0. 0. 0. 0. 0. 0. 0. 0. 0. 0. 0. 0. 0. 0. 0. 0.]\n",
      "[0. 0. 0. 0. 0. 0. 0. 0. 0. 0. 0. 0. 0. 0. 0. 0.]\n",
      "[0. 0. 0. 0. 0. 0. 0. 0. 0. 0. 0. 0. 0. 0. 0. 0.]\n",
      "[0. 0. 0. 0. 0. 0. 0. 0. 0. 0. 0. 0. 0. 0. 0. 0.]\n",
      "[0. 0. 0. 0. 0. 0. 0. 0. 0. 0. 0. 0. 0. 0. 0. 0.]\n",
      "[0. 0. 0. 0. 0. 0. 0. 0. 0. 0. 0. 0. 0. 0. 0. 0.]\n",
      "[0. 0. 0. 0. 0. 0. 0. 0. 0. 0. 0. 0. 0. 0. 0. 0.]\n",
      "[0. 0. 0. 0. 0. 0. 0. 0. 0. 0. 0. 0. 0. 0. 0. 0.]\n",
      "[0. 0. 0. 0. 0. 0. 0. 0. 0. 0. 0. 0. 0. 0. 0. 0.]\n",
      "[0. 0. 0. 0. 0. 0. 0. 0. 0. 0. 0. 0. 0. 0. 0. 0.]\n",
      "[0. 0. 0. 0. 0. 0. 0. 0. 0. 0. 0. 0. 0. 0. 0. 0.]\n",
      "[0. 0. 0. 0. 0. 0. 0. 0. 0. 0. 0. 0. 0. 0. 0. 0.]\n",
      "[0. 0. 0. 0. 0. 0. 0. 0. 0. 0. 0. 0. 0. 0. 0. 0.]\n",
      "[0. 0. 0. 0. 0. 0. 0. 0. 0. 0. 0. 0. 0. 0. 0. 0.]\n",
      "[0. 0. 0. 0. 0. 0. 0. 0. 0. 0. 0. 0. 0. 0. 0. 0.]\n",
      "[0. 0. 0. 0. 0. 0. 0. 0. 0. 0. 0. 0. 0. 0. 0. 0.]\n",
      "[0. 0. 0. 0. 0. 0. 0. 0. 0. 0. 0. 0. 0. 0. 0. 0.]\n",
      "[0. 0. 0. 0. 0. 0. 0. 0. 0. 0. 0. 0. 0. 0. 0. 0.]\n",
      "[0. 0. 0. 0. 0. 0. 0. 0. 0. 0. 0. 0. 0. 0. 0. 0.]\n",
      "[0. 0. 0. 0. 0. 0. 0. 0. 0. 0. 0. 0. 0. 0. 0. 0.]\n",
      "[0. 0. 0. 0. 0. 0. 0. 0. 0. 0. 0. 0. 0. 0. 0. 0.]\n",
      "[0. 0. 0. 0. 0. 0. 0. 0. 0. 0. 0. 0. 0. 0. 0. 0.]\n",
      "[0. 0. 0. 0. 0. 0. 0. 0. 0. 0. 0. 0. 0. 0. 0. 0.]\n",
      "[0. 0. 0. 0. 0. 0. 0. 0. 0. 0. 0. 0. 0. 0. 0. 0.]\n",
      "[0. 0. 0. 0. 0. 0. 0. 0. 0. 0. 0. 0. 0. 0. 0. 0.]\n",
      "[0. 0. 0. 0. 0. 0. 0. 0. 0. 0. 0. 0. 0. 0. 0. 0.]\n",
      "[0. 0. 0. 0. 0. 0. 0. 0. 0. 0. 0. 0. 0. 0. 0. 0.]\n",
      "[0. 0. 0. 0. 0. 0. 0. 0. 0. 0. 0. 0. 0. 0. 0. 0.]\n",
      "[0. 0. 0. 0. 0. 0. 0. 0. 0. 0. 0. 0. 0. 0. 0. 0.]\n",
      "[0. 0. 0. 0. 0. 0. 0. 0. 0. 0. 0. 0. 0. 0. 0. 0.]\n",
      "[0. 0. 0. 0. 0. 0. 0. 0. 0. 0. 0. 0. 0. 0. 0. 0.]\n"
     ]
    }
   ],
   "source": [
    "for i in range(trace_num):\n",
    "    n = i + 1\n",
    "    t_sum += t[i]\n",
    "    t2_sum += t[i]**2\n",
    "    std_t = np.sqrt(t2_sum - t_sum**2 / n)\n",
    "    \n",
    "    for b in range(byte_num):\n",
    "        h = hw_list[AES_Sbox[p[i, b] ^ np.arange(key_num)]]\n",
    "        h_sum[b] += h\n",
    "        h2_sum[b] +=h**2\n",
    "        h_t_sum += np.outer(h, t[i])\n",
    "        \n",
    "        nom = h_t_sum[b] - np.outer(h_sum[b], t_sum) / n\n",
    "        denom = np.outer(np.sqrt(h2_sum[b] - h_sum[b]**2 / n), std_t)\n",
    "        r[b] = nom / denom\n",
    "        index = np.unravel_index(np.argmax(np.absolute(r[b]), axis=None), r[b].shape)\n",
    "        key_guess[b] = index[0]\n",
    "        \n",
    "    print(key_guess)"
   ]
  }
 ],
 "metadata": {
  "kernelspec": {
   "display_name": "Python 3 (ipykernel)",
   "language": "python",
   "name": "python3"
  },
  "language_info": {
   "codemirror_mode": {
    "name": "ipython",
    "version": 3
   },
   "file_extension": ".py",
   "mimetype": "text/x-python",
   "name": "python",
   "nbconvert_exporter": "python",
   "pygments_lexer": "ipython3",
   "version": "3.7.7"
  },
  "toc": {
   "base_numbering": 1,
   "nav_menu": {},
   "number_sections": true,
   "sideBar": true,
   "skip_h1_title": false,
   "title_cell": "Table of Contents",
   "title_sidebar": "Contents",
   "toc_cell": false,
   "toc_position": {},
   "toc_section_display": true,
   "toc_window_display": false
  }
 },
 "nbformat": 4,
 "nbformat_minor": 5
}
