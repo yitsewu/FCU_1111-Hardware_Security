{
 "cells": [
  {
   "cell_type": "code",
   "execution_count": 1,
   "id": "abade029",
   "metadata": {},
   "outputs": [],
   "source": [
    "SCOPETYPE = 'CWNANO'\n",
    "PLATFORM = 'CWNANO'\n",
    "CRYPTO_TARGET = 'TINYAES128C'\n",
    "VERSION = 'HARDWARE'\n",
    "SS_VER = 'SS_VER_1_1'"
   ]
  },
  {
   "cell_type": "code",
   "execution_count": 2,
   "id": "4579883a",
   "metadata": {},
   "outputs": [
    {
     "name": "stderr",
     "output_type": "stream",
     "text": [
      "(ChipWhisperer Other WARNING|File __init__.py:69) ChipWhisperer update available! See https://chipwhisperer.readthedocs.io/en/latest/installing.html for updating instructions\n",
      "(ChipWhisperer NAEUSB WARNING|File naeusb.py:701) Your firmware (0.24) is outdated - latest is 0.62See https://chipwhisperer.readthedocs.io/en/latest/firmware.html for more information\n"
     ]
    },
    {
     "name": "stdout",
     "output_type": "stream",
     "text": [
      "INFO: Found ChipWhisperer😍\n"
     ]
    }
   ],
   "source": [
    "%run \"../Setup_Scripts/Setup_Generic.ipynb\""
   ]
  },
  {
   "cell_type": "code",
   "execution_count": 3,
   "id": "8e31bf9a",
   "metadata": {},
   "outputs": [
    {
     "name": "stdout",
     "output_type": "stream",
     "text": [
      "Building for platform CWNANO with CRYPTO_TARGET=TINYAES128C\r\n",
      "SS_VER set to SS_VER_1_1\r\n",
      "Blank crypto options, building for AES128\r\n",
      "C:/Users/yitsewu/CHIPWH~1/cw/home/portable/avrgcc/bin/make clean_objs .dep \r\n",
      "make[1]: Entering directory 'C:/Users/yitsewu/ChipWhisperer5_64/cw/home/portable/chipwhisperer/hardware/victims/firmware/simpleserial-aes'\r\n",
      "Building for platform CWNANO with CRYPTO_TARGET=TINYAES128C\r\n",
      "SS_VER set to SS_VER_1_1\r\n",
      "Blank crypto options, building for AES128\r\n",
      "rm -f -- simpleserial-aes-CWNANO.hex\r\n",
      "rm -f -- simpleserial-aes-CWNANO.eep\r\n",
      "rm -f -- simpleserial-aes-CWNANO.cof\r\n",
      "rm -f -- simpleserial-aes-CWNANO.elf\r\n",
      "rm -f -- simpleserial-aes-CWNANO.map\r\n",
      "rm -f -- simpleserial-aes-CWNANO.sym\r\n",
      "rm -f -- simpleserial-aes-CWNANO.lss\r\n",
      "rm -f -- objdir-CWNANO/*.o\r\n",
      "rm -f -- objdir-CWNANO/*.lst\r\n",
      "rm -f -- simpleserial-aes.s simpleserial.s stm32f0_hal_nano.s stm32f0_hal_lowlevel.s aes.s aes-independant.s\r\n",
      "rm -f -- simpleserial-aes.d simpleserial.d stm32f0_hal_nano.d stm32f0_hal_lowlevel.d aes.d aes-independant.d\r\n",
      "rm -f -- simpleserial-aes.i simpleserial.i stm32f0_hal_nano.i stm32f0_hal_lowlevel.i aes.i aes-independant.i\r\n",
      "make[1]: '.dep' is up to date.\r\n",
      "make[1]: Leaving directory 'C:/Users/yitsewu/ChipWhisperer5_64/cw/home/portable/chipwhisperer/hardware/victims/firmware/simpleserial-aes'\r\n",
      "C:/Users/yitsewu/CHIPWH~1/cw/home/portable/avrgcc/bin/make begin gccversion build sizeafter fastnote end\r\n",
      "make[1]: Entering directory 'C:/Users/yitsewu/ChipWhisperer5_64/cw/home/portable/chipwhisperer/hardware/victims/firmware/simpleserial-aes'\r\n",
      "Building for platform CWNANO with CRYPTO_TARGET=TINYAES128C\r\n",
      "SS_VER set to SS_VER_1_1\r\n",
      "Blank crypto options, building for AES128\r\n",
      ".\n",
      "Welcome to another exciting ChipWhisperer target build!!\n",
      "arm-none-eabi-gcc (GNU Arm Embedded Toolchain 10-2020-q4-major) 10.2.1 20201103 (release)\r\n",
      "Copyright (C) 2020 Free Software Foundation, Inc.\r\n",
      "This is free software; see the source for copying conditions.  There is NO\r\n",
      "warranty; not even for MERCHANTABILITY or FITNESS FOR A PARTICULAR PURPOSE.\r\n",
      "\r\n",
      ".\n",
      "Compiling C: simpleserial-aes.c\n",
      "arm-none-eabi-gcc -c -mcpu=cortex-m0 -I. -DNO_EXTRA_OPTS -mthumb -mfloat-abi=soft -ffunction-sections -gdwarf-2 -DSS_VER=SS_VER_1_1 -DSTM32F030x6 -DSTM32F0 -DSTM32 -DDEBUG -DHAL_TYPE=HAL_stm32f0_nano -DPLATFORM=CWNANO -DTINYAES128C -DF_CPU=7372800UL -DSS_VER_2_0=2 -DSS_VER_2_1=3 -DSS_VER_1_1=1 -DSS_VER_1_0=0 -Os -funsigned-char -funsigned-bitfields -fshort-enums -Wall -Wstrict-prototypes -Wa,-adhlns=objdir-CWNANO/simpleserial-aes.lst -I.././simpleserial/ -I.././hal -I.././hal/stm32f0 -I.././hal/stm32f0/CMSIS -I.././hal/stm32f0/CMSIS/core -I.././hal/stm32f0/CMSIS/device -I.././hal/stm32f0/Legacy -I.././crypto/ -I.././crypto/tiny-AES128-C -std=gnu99  -MMD -MP -MF .dep/simpleserial-aes.o.d simpleserial-aes.c -o objdir-CWNANO/simpleserial-aes.o\r\n",
      ".\n",
      "Compiling C: .././simpleserial/simpleserial.c\n",
      "arm-none-eabi-gcc -c -mcpu=cortex-m0 -I. -DNO_EXTRA_OPTS -mthumb -mfloat-abi=soft -ffunction-sections -gdwarf-2 -DSS_VER=SS_VER_1_1 -DSTM32F030x6 -DSTM32F0 -DSTM32 -DDEBUG -DHAL_TYPE=HAL_stm32f0_nano -DPLATFORM=CWNANO -DTINYAES128C -DF_CPU=7372800UL -DSS_VER_2_0=2 -DSS_VER_2_1=3 -DSS_VER_1_1=1 -DSS_VER_1_0=0 -Os -funsigned-char -funsigned-bitfields -fshort-enums -Wall -Wstrict-prototypes -Wa,-adhlns=objdir-CWNANO/simpleserial.lst -I.././simpleserial/ -I.././hal -I.././hal/stm32f0 -I.././hal/stm32f0/CMSIS -I.././hal/stm32f0/CMSIS/core -I.././hal/stm32f0/CMSIS/device -I.././hal/stm32f0/Legacy -I.././crypto/ -I.././crypto/tiny-AES128-C -std=gnu99  -MMD -MP -MF .dep/simpleserial.o.d .././simpleserial/simpleserial.c -o objdir-CWNANO/simpleserial.o\r\n",
      ".\n",
      "Compiling C: .././hal/stm32f0_nano/stm32f0_hal_nano.c\n",
      "arm-none-eabi-gcc -c -mcpu=cortex-m0 -I. -DNO_EXTRA_OPTS -mthumb -mfloat-abi=soft -ffunction-sections -gdwarf-2 -DSS_VER=SS_VER_1_1 -DSTM32F030x6 -DSTM32F0 -DSTM32 -DDEBUG -DHAL_TYPE=HAL_stm32f0_nano -DPLATFORM=CWNANO -DTINYAES128C -DF_CPU=7372800UL -DSS_VER_2_0=2 -DSS_VER_2_1=3 -DSS_VER_1_1=1 -DSS_VER_1_0=0 -Os -funsigned-char -funsigned-bitfields -fshort-enums -Wall -Wstrict-prototypes -Wa,-adhlns=objdir-CWNANO/stm32f0_hal_nano.lst -I.././simpleserial/ -I.././hal -I.././hal/stm32f0 -I.././hal/stm32f0/CMSIS -I.././hal/stm32f0/CMSIS/core -I.././hal/stm32f0/CMSIS/device -I.././hal/stm32f0/Legacy -I.././crypto/ -I.././crypto/tiny-AES128-C -std=gnu99  -MMD -MP -MF .dep/stm32f0_hal_nano.o.d .././hal/stm32f0_nano/stm32f0_hal_nano.c -o objdir-CWNANO/stm32f0_hal_nano.o\r\n",
      ".\n",
      "Compiling C: .././hal/stm32f0/stm32f0_hal_lowlevel.c\n",
      "arm-none-eabi-gcc -c -mcpu=cortex-m0 -I. -DNO_EXTRA_OPTS -mthumb -mfloat-abi=soft -ffunction-sections -gdwarf-2 -DSS_VER=SS_VER_1_1 -DSTM32F030x6 -DSTM32F0 -DSTM32 -DDEBUG -DHAL_TYPE=HAL_stm32f0_nano -DPLATFORM=CWNANO -DTINYAES128C -DF_CPU=7372800UL -DSS_VER_2_0=2 -DSS_VER_2_1=3 -DSS_VER_1_1=1 -DSS_VER_1_0=0 -Os -funsigned-char -funsigned-bitfields -fshort-enums -Wall -Wstrict-prototypes -Wa,-adhlns=objdir-CWNANO/stm32f0_hal_lowlevel.lst -I.././simpleserial/ -I.././hal -I.././hal/stm32f0 -I.././hal/stm32f0/CMSIS -I.././hal/stm32f0/CMSIS/core -I.././hal/stm32f0/CMSIS/device -I.././hal/stm32f0/Legacy -I.././crypto/ -I.././crypto/tiny-AES128-C -std=gnu99  -MMD -MP -MF .dep/stm32f0_hal_lowlevel.o.d .././hal/stm32f0/stm32f0_hal_lowlevel.c -o objdir-CWNANO/stm32f0_hal_lowlevel.o\r\n",
      ".\n",
      "Compiling C: .././crypto/tiny-AES128-C/aes.c\n",
      "arm-none-eabi-gcc -c -mcpu=cortex-m0 -I. -DNO_EXTRA_OPTS -mthumb -mfloat-abi=soft -ffunction-sections -gdwarf-2 -DSS_VER=SS_VER_1_1 -DSTM32F030x6 -DSTM32F0 -DSTM32 -DDEBUG -DHAL_TYPE=HAL_stm32f0_nano -DPLATFORM=CWNANO -DTINYAES128C -DF_CPU=7372800UL -DSS_VER_2_0=2 -DSS_VER_2_1=3 -DSS_VER_1_1=1 -DSS_VER_1_0=0 -Os -funsigned-char -funsigned-bitfields -fshort-enums -Wall -Wstrict-prototypes -Wa,-adhlns=objdir-CWNANO/aes.lst -I.././simpleserial/ -I.././hal -I.././hal/stm32f0 -I.././hal/stm32f0/CMSIS -I.././hal/stm32f0/CMSIS/core -I.././hal/stm32f0/CMSIS/device -I.././hal/stm32f0/Legacy -I.././crypto/ -I.././crypto/tiny-AES128-C -std=gnu99  -MMD -MP -MF .dep/aes.o.d .././crypto/tiny-AES128-C/aes.c -o objdir-CWNANO/aes.o\r\n",
      ".\n",
      "Compiling C: .././crypto/aes-independant.c\n",
      "arm-none-eabi-gcc -c -mcpu=cortex-m0 -I. -DNO_EXTRA_OPTS -mthumb -mfloat-abi=soft -ffunction-sections -gdwarf-2 -DSS_VER=SS_VER_1_1 -DSTM32F030x6 -DSTM32F0 -DSTM32 -DDEBUG -DHAL_TYPE=HAL_stm32f0_nano -DPLATFORM=CWNANO -DTINYAES128C -DF_CPU=7372800UL -DSS_VER_2_0=2 -DSS_VER_2_1=3 -DSS_VER_1_1=1 -DSS_VER_1_0=0 -Os -funsigned-char -funsigned-bitfields -fshort-enums -Wall -Wstrict-prototypes -Wa,-adhlns=objdir-CWNANO/aes-independant.lst -I.././simpleserial/ -I.././hal -I.././hal/stm32f0 -I.././hal/stm32f0/CMSIS -I.././hal/stm32f0/CMSIS/core -I.././hal/stm32f0/CMSIS/device -I.././hal/stm32f0/Legacy -I.././crypto/ -I.././crypto/tiny-AES128-C -std=gnu99  -MMD -MP -MF .dep/aes-independant.o.d .././crypto/aes-independant.c -o objdir-CWNANO/aes-independant.o\r\n",
      ".\n",
      "Assembling: .././hal/stm32f0/stm32f0_startup.S\n",
      "arm-none-eabi-gcc -c -mcpu=cortex-m0 -I. -x assembler-with-cpp -mthumb -mfloat-abi=soft -ffunction-sections -DF_CPU=7372800 -Wa,-gstabs,-adhlns=objdir-CWNANO/stm32f0_startup.lst -I.././simpleserial/ -I.././hal -I.././hal/stm32f0 -I.././hal/stm32f0/CMSIS -I.././hal/stm32f0/CMSIS/core -I.././hal/stm32f0/CMSIS/device -I.././hal/stm32f0/Legacy -I.././crypto/ -I.././crypto/tiny-AES128-C .././hal/stm32f0/stm32f0_startup.S -o objdir-CWNANO/stm32f0_startup.o\r\n",
      ".\n",
      "Linking: simpleserial-aes-CWNANO.elf\n",
      "arm-none-eabi-gcc -mcpu=cortex-m0 -I. -DNO_EXTRA_OPTS -mthumb -mfloat-abi=soft -ffunction-sections -gdwarf-2 -DSS_VER=SS_VER_1_1 -DSTM32F030x6 -DSTM32F0 -DSTM32 -DDEBUG -DHAL_TYPE=HAL_stm32f0_nano -DPLATFORM=CWNANO -DTINYAES128C -DF_CPU=7372800UL -DSS_VER_2_0=2 -DSS_VER_2_1=3 -DSS_VER_1_1=1 -DSS_VER_1_0=0 -Os -funsigned-char -funsigned-bitfields -fshort-enums -Wall -Wstrict-prototypes -Wa,-adhlns=objdir-CWNANO/simpleserial-aes.o -I.././simpleserial/ -I.././hal -I.././hal/stm32f0 -I.././hal/stm32f0/CMSIS -I.././hal/stm32f0/CMSIS/core -I.././hal/stm32f0/CMSIS/device -I.././hal/stm32f0/Legacy -I.././crypto/ -I.././crypto/tiny-AES128-C -std=gnu99  -MMD -MP -MF .dep/simpleserial-aes-CWNANO.elf.d objdir-CWNANO/simpleserial-aes.o objdir-CWNANO/simpleserial.o objdir-CWNANO/stm32f0_hal_nano.o objdir-CWNANO/stm32f0_hal_lowlevel.o objdir-CWNANO/aes.o objdir-CWNANO/aes-independant.o objdir-CWNANO/stm32f0_startup.o --output simpleserial-aes-CWNANO.elf --specs=nano.specs --specs=nosys.specs -T .././hal/stm32f0_nano/LinkerScript.ld -Wl,--gc-sections -lm -mthumb -mcpu=cortex-m0  -Wl,-Map=simpleserial-aes-CWNANO.map,--cref   -lm  \r\n",
      ".\n",
      "Creating load file for Flash: simpleserial-aes-CWNANO.hex\n",
      "arm-none-eabi-objcopy -O ihex -R .eeprom -R .fuse -R .lock -R .signature simpleserial-aes-CWNANO.elf simpleserial-aes-CWNANO.hex\r\n",
      ".\n",
      "Creating load file for Flash: simpleserial-aes-CWNANO.bin\n",
      "arm-none-eabi-objcopy -O binary -R .eeprom -R .fuse -R .lock -R .signature simpleserial-aes-CWNANO.elf simpleserial-aes-CWNANO.bin\r\n",
      ".\n",
      "Creating load file for EEPROM: simpleserial-aes-CWNANO.eep\n",
      "arm-none-eabi-objcopy -j .eeprom --set-section-flags=.eeprom=\"alloc,load\" \\\r\n",
      "--change-section-lma .eeprom=0 --no-change-warnings -O ihex simpleserial-aes-CWNANO.elf simpleserial-aes-CWNANO.eep || exit 0\r\n",
      ".\n",
      "Creating Extended Listing: simpleserial-aes-CWNANO.lss\n",
      "arm-none-eabi-objdump -h -S -z simpleserial-aes-CWNANO.elf > simpleserial-aes-CWNANO.lss\r\n",
      ".\n",
      "Creating Symbol Table: simpleserial-aes-CWNANO.sym\n",
      "arm-none-eabi-nm -n simpleserial-aes-CWNANO.elf > simpleserial-aes-CWNANO.sym\r\n",
      "Size after:\n",
      "   text\t   data\t    bss\t    dec\t    hex\tfilename\r\n",
      "   5432\t    540\t   1628\t   7600\t   1db0\tsimpleserial-aes-CWNANO.elf\r\n",
      "+--------------------------------------------------------\n",
      "+ Default target does full rebuild each time.\n",
      "+ Specify buildtarget == allquick == to avoid full rebuild\n",
      "+--------------------------------------------------------\n",
      "+--------------------------------------------------------\n",
      "+ Built for platform CWNANO Built-in Target (STM32F030) with:\n",
      "+ CRYPTO_TARGET = TINYAES128C\n",
      "+ CRYPTO_OPTIONS = AES128C\n",
      "+--------------------------------------------------------\n",
      "make[1]: Leaving directory 'C:/Users/yitsewu/ChipWhisperer5_64/cw/home/portable/chipwhisperer/hardware/victims/firmware/simpleserial-aes'\r\n"
     ]
    }
   ],
   "source": [
    "%%bash -s \"$PLATFORM\" \"$CRYPTO_TARGET\" \"$SS_VER\"\n",
    "cd ../../hardware/victims/firmware/simpleserial-aes\n",
    "make PLATFORM=$1 CRYPTO_TARGET=$2 SS_VER=$3"
   ]
  },
  {
   "cell_type": "code",
   "execution_count": 4,
   "id": "de3f2673",
   "metadata": {},
   "outputs": [
    {
     "name": "stdout",
     "output_type": "stream",
     "text": [
      "Detected known STMF32: STM32F04xxx\n",
      "Extended erase (0x44), this can take ten seconds or more\n",
      "Attempting to program 5971 bytes at 0x8000000\n",
      "STM32F Programming flash...\n",
      "STM32F Reading flash...\n",
      "Verified flash OK, 5971 bytes\n"
     ]
    }
   ],
   "source": [
    "fw_path = '../../hardware/victims/firmware/simpleserial-aes/simpleserial-aes-{}.hex'.format(PLATFORM)\n",
    "cw.program_target(scope, prog, fw_path)"
   ]
  },
  {
   "cell_type": "code",
   "execution_count": 5,
   "id": "57d04b53",
   "metadata": {},
   "outputs": [
    {
     "data": {
      "application/vnd.jupyter.widget-view+json": {
       "model_id": "86e190590b0b4b959a38a3614f35a2ee",
       "version_major": 2,
       "version_minor": 0
      },
      "text/plain": [
       "Capturing traces:   0%|          | 0/300 [00:00<?, ?it/s]"
      ]
     },
     "metadata": {},
     "output_type": "display_data"
    },
    {
     "name": "stdout",
     "output_type": "stream",
     "text": [
      "Number of samples = 5000\n"
     ]
    }
   ],
   "source": [
    "#Capture Traces\n",
    "from tqdm.notebook import trange\n",
    "import numpy as np\n",
    "import time\n",
    "\n",
    "ktp = cw.ktp.Basic()\n",
    "\n",
    "traces = []\n",
    "trace_num = 300  # Number of traces\n",
    "\n",
    "proj_name = f\"traces/CWNANO_{CRYPTO_TARGET}_{trace_num}_fixedkey.cwp\"\n",
    "project = cw.create_project(proj_name, overwrite=True)\n",
    "\n",
    "for i in trange(trace_num, desc='Capturing traces'):\n",
    "    key, text = ktp.next()  # manual creation of a key, text pair can be substituted here\n",
    "\n",
    "    trace = cw.capture_trace(scope, target, text, key)\n",
    "    if trace is None:\n",
    "        continue\n",
    "    project.traces.append(trace)\n",
    "\n",
    "print(f'Number of samples = {scope.adc.samples}')\n",
    "project.save()"
   ]
  },
  {
   "cell_type": "code",
   "execution_count": 6,
   "id": "28165a68",
   "metadata": {},
   "outputs": [],
   "source": [
    "scope.dis()\n",
    "target.dis()"
   ]
  },
  {
   "cell_type": "code",
   "execution_count": null,
   "id": "2f571fb7",
   "metadata": {},
   "outputs": [
    {
     "data": {
      "text/html": [
       "<style type=\"text/css\">\n",
       "#T_93668_row1_col0, #T_93668_row1_col1, #T_93668_row1_col2, #T_93668_row1_col3, #T_93668_row1_col4, #T_93668_row1_col5, #T_93668_row1_col6, #T_93668_row1_col7, #T_93668_row1_col8, #T_93668_row1_col9, #T_93668_row1_col10, #T_93668_row1_col11, #T_93668_row1_col12, #T_93668_row1_col13, #T_93668_row1_col14, #T_93668_row1_col15 {\n",
       "  color: red;\n",
       "}\n",
       "</style>\n",
       "<table id=\"T_93668_\">\n",
       "  <caption>Finished traces 125 to 150</caption>\n",
       "  <thead>\n",
       "    <tr>\n",
       "      <th class=\"blank level0\" >&nbsp;</th>\n",
       "      <th class=\"col_heading level0 col0\" >0</th>\n",
       "      <th class=\"col_heading level0 col1\" >1</th>\n",
       "      <th class=\"col_heading level0 col2\" >2</th>\n",
       "      <th class=\"col_heading level0 col3\" >3</th>\n",
       "      <th class=\"col_heading level0 col4\" >4</th>\n",
       "      <th class=\"col_heading level0 col5\" >5</th>\n",
       "      <th class=\"col_heading level0 col6\" >6</th>\n",
       "      <th class=\"col_heading level0 col7\" >7</th>\n",
       "      <th class=\"col_heading level0 col8\" >8</th>\n",
       "      <th class=\"col_heading level0 col9\" >9</th>\n",
       "      <th class=\"col_heading level0 col10\" >10</th>\n",
       "      <th class=\"col_heading level0 col11\" >11</th>\n",
       "      <th class=\"col_heading level0 col12\" >12</th>\n",
       "      <th class=\"col_heading level0 col13\" >13</th>\n",
       "      <th class=\"col_heading level0 col14\" >14</th>\n",
       "      <th class=\"col_heading level0 col15\" >15</th>\n",
       "    </tr>\n",
       "  </thead>\n",
       "  <tbody>\n",
       "    <tr>\n",
       "      <th id=\"T_93668_level0_row0\" class=\"row_heading level0 row0\" >PGE=</th>\n",
       "      <td id=\"T_93668_row0_col0\" class=\"data row0 col0\" >0</td>\n",
       "      <td id=\"T_93668_row0_col1\" class=\"data row0 col1\" >0</td>\n",
       "      <td id=\"T_93668_row0_col2\" class=\"data row0 col2\" >0</td>\n",
       "      <td id=\"T_93668_row0_col3\" class=\"data row0 col3\" >0</td>\n",
       "      <td id=\"T_93668_row0_col4\" class=\"data row0 col4\" >0</td>\n",
       "      <td id=\"T_93668_row0_col5\" class=\"data row0 col5\" >0</td>\n",
       "      <td id=\"T_93668_row0_col6\" class=\"data row0 col6\" >0</td>\n",
       "      <td id=\"T_93668_row0_col7\" class=\"data row0 col7\" >0</td>\n",
       "      <td id=\"T_93668_row0_col8\" class=\"data row0 col8\" >0</td>\n",
       "      <td id=\"T_93668_row0_col9\" class=\"data row0 col9\" >0</td>\n",
       "      <td id=\"T_93668_row0_col10\" class=\"data row0 col10\" >0</td>\n",
       "      <td id=\"T_93668_row0_col11\" class=\"data row0 col11\" >0</td>\n",
       "      <td id=\"T_93668_row0_col12\" class=\"data row0 col12\" >0</td>\n",
       "      <td id=\"T_93668_row0_col13\" class=\"data row0 col13\" >0</td>\n",
       "      <td id=\"T_93668_row0_col14\" class=\"data row0 col14\" >0</td>\n",
       "      <td id=\"T_93668_row0_col15\" class=\"data row0 col15\" >0</td>\n",
       "    </tr>\n",
       "    <tr>\n",
       "      <th id=\"T_93668_level0_row1\" class=\"row_heading level0 row1\" >0</th>\n",
       "      <td id=\"T_93668_row1_col0\" class=\"data row1 col0\" >2B<br>0.922</td>\n",
       "      <td id=\"T_93668_row1_col1\" class=\"data row1 col1\" >7E<br>0.916</td>\n",
       "      <td id=\"T_93668_row1_col2\" class=\"data row1 col2\" >15<br>0.932</td>\n",
       "      <td id=\"T_93668_row1_col3\" class=\"data row1 col3\" >16<br>0.935</td>\n",
       "      <td id=\"T_93668_row1_col4\" class=\"data row1 col4\" >28<br>0.941</td>\n",
       "      <td id=\"T_93668_row1_col5\" class=\"data row1 col5\" >AE<br>0.914</td>\n",
       "      <td id=\"T_93668_row1_col6\" class=\"data row1 col6\" >D2<br>0.952</td>\n",
       "      <td id=\"T_93668_row1_col7\" class=\"data row1 col7\" >A6<br>0.936</td>\n",
       "      <td id=\"T_93668_row1_col8\" class=\"data row1 col8\" >AB<br>0.928</td>\n",
       "      <td id=\"T_93668_row1_col9\" class=\"data row1 col9\" >F7<br>0.945</td>\n",
       "      <td id=\"T_93668_row1_col10\" class=\"data row1 col10\" >15<br>0.925</td>\n",
       "      <td id=\"T_93668_row1_col11\" class=\"data row1 col11\" >88<br>0.941</td>\n",
       "      <td id=\"T_93668_row1_col12\" class=\"data row1 col12\" >09<br>0.936</td>\n",
       "      <td id=\"T_93668_row1_col13\" class=\"data row1 col13\" >CF<br>0.927</td>\n",
       "      <td id=\"T_93668_row1_col14\" class=\"data row1 col14\" >4F<br>0.917</td>\n",
       "      <td id=\"T_93668_row1_col15\" class=\"data row1 col15\" >3C<br>0.951</td>\n",
       "    </tr>\n",
       "    <tr>\n",
       "      <th id=\"T_93668_level0_row2\" class=\"row_heading level0 row2\" >1</th>\n",
       "      <td id=\"T_93668_row2_col0\" class=\"data row2 col0\" >DF<br>0.389</td>\n",
       "      <td id=\"T_93668_row2_col1\" class=\"data row2 col1\" >37<br>0.425</td>\n",
       "      <td id=\"T_93668_row2_col2\" class=\"data row2 col2\" >0D<br>0.379</td>\n",
       "      <td id=\"T_93668_row2_col3\" class=\"data row2 col3\" >57<br>0.387</td>\n",
       "      <td id=\"T_93668_row2_col4\" class=\"data row2 col4\" >25<br>0.395</td>\n",
       "      <td id=\"T_93668_row2_col5\" class=\"data row2 col5\" >6E<br>0.402</td>\n",
       "      <td id=\"T_93668_row2_col6\" class=\"data row2 col6\" >86<br>0.383</td>\n",
       "      <td id=\"T_93668_row2_col7\" class=\"data row2 col7\" >72<br>0.389</td>\n",
       "      <td id=\"T_93668_row2_col8\" class=\"data row2 col8\" >D3<br>0.409</td>\n",
       "      <td id=\"T_93668_row2_col9\" class=\"data row2 col9\" >89<br>0.412</td>\n",
       "      <td id=\"T_93668_row2_col10\" class=\"data row2 col10\" >16<br>0.398</td>\n",
       "      <td id=\"T_93668_row2_col11\" class=\"data row2 col11\" >34<br>0.391</td>\n",
       "      <td id=\"T_93668_row2_col12\" class=\"data row2 col12\" >6C<br>0.419</td>\n",
       "      <td id=\"T_93668_row2_col13\" class=\"data row2 col13\" >05<br>0.438</td>\n",
       "      <td id=\"T_93668_row2_col14\" class=\"data row2 col14\" >D9<br>0.449</td>\n",
       "      <td id=\"T_93668_row2_col15\" class=\"data row2 col15\" >E6<br>0.402</td>\n",
       "    </tr>\n",
       "    <tr>\n",
       "      <th id=\"T_93668_level0_row3\" class=\"row_heading level0 row3\" >2</th>\n",
       "      <td id=\"T_93668_row3_col0\" class=\"data row3 col0\" >EA<br>0.383</td>\n",
       "      <td id=\"T_93668_row3_col1\" class=\"data row3 col1\" >35<br>0.386</td>\n",
       "      <td id=\"T_93668_row3_col2\" class=\"data row3 col2\" >1E<br>0.377</td>\n",
       "      <td id=\"T_93668_row3_col3\" class=\"data row3 col3\" >F7<br>0.381</td>\n",
       "      <td id=\"T_93668_row3_col4\" class=\"data row3 col4\" >76<br>0.381</td>\n",
       "      <td id=\"T_93668_row3_col5\" class=\"data row3 col5\" >82<br>0.386</td>\n",
       "      <td id=\"T_93668_row3_col6\" class=\"data row3 col6\" >7F<br>0.373</td>\n",
       "      <td id=\"T_93668_row3_col7\" class=\"data row3 col7\" >3B<br>0.384</td>\n",
       "      <td id=\"T_93668_row3_col8\" class=\"data row3 col8\" >CB<br>0.402</td>\n",
       "      <td id=\"T_93668_row3_col9\" class=\"data row3 col9\" >39<br>0.401</td>\n",
       "      <td id=\"T_93668_row3_col10\" class=\"data row3 col10\" >A6<br>0.377</td>\n",
       "      <td id=\"T_93668_row3_col11\" class=\"data row3 col11\" >83<br>0.372</td>\n",
       "      <td id=\"T_93668_row3_col12\" class=\"data row3 col12\" >02<br>0.369</td>\n",
       "      <td id=\"T_93668_row3_col13\" class=\"data row3 col13\" >B9<br>0.378</td>\n",
       "      <td id=\"T_93668_row3_col14\" class=\"data row3 col14\" >A5<br>0.426</td>\n",
       "      <td id=\"T_93668_row3_col15\" class=\"data row3 col15\" >3F<br>0.393</td>\n",
       "    </tr>\n",
       "    <tr>\n",
       "      <th id=\"T_93668_level0_row4\" class=\"row_heading level0 row4\" >3</th>\n",
       "      <td id=\"T_93668_row4_col0\" class=\"data row4 col0\" >25<br>0.373</td>\n",
       "      <td id=\"T_93668_row4_col1\" class=\"data row4 col1\" >54<br>0.385</td>\n",
       "      <td id=\"T_93668_row4_col2\" class=\"data row4 col2\" >B0<br>0.373</td>\n",
       "      <td id=\"T_93668_row4_col3\" class=\"data row4 col3\" >86<br>0.378</td>\n",
       "      <td id=\"T_93668_row4_col4\" class=\"data row4 col4\" >17<br>0.376</td>\n",
       "      <td id=\"T_93668_row4_col5\" class=\"data row4 col5\" >66<br>0.369</td>\n",
       "      <td id=\"T_93668_row4_col6\" class=\"data row4 col6\" >A2<br>0.367</td>\n",
       "      <td id=\"T_93668_row4_col7\" class=\"data row4 col7\" >13<br>0.368</td>\n",
       "      <td id=\"T_93668_row4_col8\" class=\"data row4 col8\" >5C<br>0.382</td>\n",
       "      <td id=\"T_93668_row4_col9\" class=\"data row4 col9\" >07<br>0.392</td>\n",
       "      <td id=\"T_93668_row4_col10\" class=\"data row4 col10\" >9D<br>0.377</td>\n",
       "      <td id=\"T_93668_row4_col11\" class=\"data row4 col11\" >F4<br>0.370</td>\n",
       "      <td id=\"T_93668_row4_col12\" class=\"data row4 col12\" >A1<br>0.367</td>\n",
       "      <td id=\"T_93668_row4_col13\" class=\"data row4 col13\" >57<br>0.376</td>\n",
       "      <td id=\"T_93668_row4_col14\" class=\"data row4 col14\" >81<br>0.378</td>\n",
       "      <td id=\"T_93668_row4_col15\" class=\"data row4 col15\" >75<br>0.392</td>\n",
       "    </tr>\n",
       "    <tr>\n",
       "      <th id=\"T_93668_level0_row5\" class=\"row_heading level0 row5\" >4</th>\n",
       "      <td id=\"T_93668_row5_col0\" class=\"data row5 col0\" >47<br>0.367</td>\n",
       "      <td id=\"T_93668_row5_col1\" class=\"data row5 col1\" >F1<br>0.380</td>\n",
       "      <td id=\"T_93668_row5_col2\" class=\"data row5 col2\" >44<br>0.368</td>\n",
       "      <td id=\"T_93668_row5_col3\" class=\"data row5 col3\" >ED<br>0.375</td>\n",
       "      <td id=\"T_93668_row5_col4\" class=\"data row5 col4\" >B9<br>0.370</td>\n",
       "      <td id=\"T_93668_row5_col5\" class=\"data row5 col5\" >72<br>0.368</td>\n",
       "      <td id=\"T_93668_row5_col6\" class=\"data row5 col6\" >8B<br>0.361</td>\n",
       "      <td id=\"T_93668_row5_col7\" class=\"data row5 col7\" >90<br>0.368</td>\n",
       "      <td id=\"T_93668_row5_col8\" class=\"data row5 col8\" >69<br>0.369</td>\n",
       "      <td id=\"T_93668_row5_col9\" class=\"data row5 col9\" >95<br>0.385</td>\n",
       "      <td id=\"T_93668_row5_col10\" class=\"data row5 col10\" >71<br>0.370</td>\n",
       "      <td id=\"T_93668_row5_col11\" class=\"data row5 col11\" >CB<br>0.370</td>\n",
       "      <td id=\"T_93668_row5_col12\" class=\"data row5 col12\" >9C<br>0.363</td>\n",
       "      <td id=\"T_93668_row5_col13\" class=\"data row5 col13\" >18<br>0.375</td>\n",
       "      <td id=\"T_93668_row5_col14\" class=\"data row5 col14\" >D1<br>0.372</td>\n",
       "      <td id=\"T_93668_row5_col15\" class=\"data row5 col15\" >EF<br>0.378</td>\n",
       "    </tr>\n",
       "  </tbody>\n",
       "</table>\n"
      ],
      "text/plain": [
       "<pandas.io.formats.style.Styler at 0x25bc4960188>"
      ]
     },
     "metadata": {},
     "output_type": "display_data"
    }
   ],
   "source": [
    "import chipwhisperer.analyzer as cwa\n",
    "#pick right leakage model for your attack\n",
    "leak_model = cwa.leakage_models.sbox_output\n",
    "attack = cwa.cpa(project, leak_model)\n",
    "results = attack.run(cwa.get_jupyter_callback(attack))"
   ]
  },
  {
   "cell_type": "code",
   "execution_count": null,
   "id": "29c81c7f",
   "metadata": {},
   "outputs": [],
   "source": [
    "snr = cwa.calculate_snr(project.traces, leak_model, bnum=1, db=False)\n",
    "cw.plot(snr)"
   ]
  },
  {
   "cell_type": "code",
   "execution_count": null,
   "id": "c82c7c93",
   "metadata": {},
   "outputs": [],
   "source": [
    "print(project.keys[0])"
   ]
  },
  {
   "cell_type": "code",
   "execution_count": null,
   "id": "0151a542",
   "metadata": {},
   "outputs": [],
   "source": [
    "cw.plot(project.waves[0])"
   ]
  },
  {
   "cell_type": "code",
   "execution_count": null,
   "id": "92b680ab",
   "metadata": {},
   "outputs": [],
   "source": []
  }
 ],
 "metadata": {
  "kernelspec": {
   "display_name": "Python 3 (ipykernel)",
   "language": "python",
   "name": "python3"
  },
  "language_info": {
   "codemirror_mode": {
    "name": "ipython",
    "version": 3
   },
   "file_extension": ".py",
   "mimetype": "text/x-python",
   "name": "python",
   "nbconvert_exporter": "python",
   "pygments_lexer": "ipython3",
   "version": "3.7.7"
  },
  "toc": {
   "base_numbering": 1,
   "nav_menu": {},
   "number_sections": true,
   "sideBar": true,
   "skip_h1_title": false,
   "title_cell": "Table of Contents",
   "title_sidebar": "Contents",
   "toc_cell": false,
   "toc_position": {},
   "toc_section_display": true,
   "toc_window_display": false
  }
 },
 "nbformat": 4,
 "nbformat_minor": 5
}
