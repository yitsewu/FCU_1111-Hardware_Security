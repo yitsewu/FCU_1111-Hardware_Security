{
 "cells": [
  {
   "cell_type": "code",
   "execution_count": 1,
   "id": "98ffd5d6",
   "metadata": {},
   "outputs": [],
   "source": [
    "from scipy.stats import multivariate_normal\n",
    "import chipwhisperer as cw\n",
    "import numpy as np"
   ]
  },
  {
   "cell_type": "code",
   "execution_count": 2,
   "id": "3337918f",
   "metadata": {},
   "outputs": [],
   "source": [
    "# The AES SBox that we will use to generate our labels\n",
    "AES_Sbox = np.array([\n",
    "            0x63, 0x7C, 0x77, 0x7B, 0xF2, 0x6B, 0x6F, 0xC5, 0x30, 0x01, 0x67, 0x2B, 0xFE, 0xD7, 0xAB, 0x76,\n",
    "            0xCA, 0x82, 0xC9, 0x7D, 0xFA, 0x59, 0x47, 0xF0, 0xAD, 0xD4, 0xA2, 0xAF, 0x9C, 0xA4, 0x72, 0xC0,\n",
    "            0xB7, 0xFD, 0x93, 0x26, 0x36, 0x3F, 0xF7, 0xCC, 0x34, 0xA5, 0xE5, 0xF1, 0x71, 0xD8, 0x31, 0x15,\n",
    "            0x04, 0xC7, 0x23, 0xC3, 0x18, 0x96, 0x05, 0x9A, 0x07, 0x12, 0x80, 0xE2, 0xEB, 0x27, 0xB2, 0x75,\n",
    "            0x09, 0x83, 0x2C, 0x1A, 0x1B, 0x6E, 0x5A, 0xA0, 0x52, 0x3B, 0xD6, 0xB3, 0x29, 0xE3, 0x2F, 0x84,\n",
    "            0x53, 0xD1, 0x00, 0xED, 0x20, 0xFC, 0xB1, 0x5B, 0x6A, 0xCB, 0xBE, 0x39, 0x4A, 0x4C, 0x58, 0xCF,\n",
    "            0xD0, 0xEF, 0xAA, 0xFB, 0x43, 0x4D, 0x33, 0x85, 0x45, 0xF9, 0x02, 0x7F, 0x50, 0x3C, 0x9F, 0xA8,\n",
    "            0x51, 0xA3, 0x40, 0x8F, 0x92, 0x9D, 0x38, 0xF5, 0xBC, 0xB6, 0xDA, 0x21, 0x10, 0xFF, 0xF3, 0xD2,\n",
    "            0xCD, 0x0C, 0x13, 0xEC, 0x5F, 0x97, 0x44, 0x17, 0xC4, 0xA7, 0x7E, 0x3D, 0x64, 0x5D, 0x19, 0x73,\n",
    "            0x60, 0x81, 0x4F, 0xDC, 0x22, 0x2A, 0x90, 0x88, 0x46, 0xEE, 0xB8, 0x14, 0xDE, 0x5E, 0x0B, 0xDB,\n",
    "            0xE0, 0x32, 0x3A, 0x0A, 0x49, 0x06, 0x24, 0x5C, 0xC2, 0xD3, 0xAC, 0x62, 0x91, 0x95, 0xE4, 0x79,\n",
    "            0xE7, 0xC8, 0x37, 0x6D, 0x8D, 0xD5, 0x4E, 0xA9, 0x6C, 0x56, 0xF4, 0xEA, 0x65, 0x7A, 0xAE, 0x08,\n",
    "            0xBA, 0x78, 0x25, 0x2E, 0x1C, 0xA6, 0xB4, 0xC6, 0xE8, 0xDD, 0x74, 0x1F, 0x4B, 0xBD, 0x8B, 0x8A,\n",
    "            0x70, 0x3E, 0xB5, 0x66, 0x48, 0x03, 0xF6, 0x0E, 0x61, 0x35, 0x57, 0xB9, 0x86, 0xC1, 0x1D, 0x9E,\n",
    "            0xE1, 0xF8, 0x98, 0x11, 0x69, 0xD9, 0x8E, 0x94, 0x9B, 0x1E, 0x87, 0xE9, 0xCE, 0x55, 0x28, 0xDF,\n",
    "            0x8C, 0xA1, 0x89, 0x0D, 0xBF, 0xE6, 0x42, 0x68, 0x41, 0x99, 0x2D, 0x0F, 0xB0, 0x54, 0xBB, 0x16\n",
    "            ])\n",
    "# The Hamming weight list of each byte value\n",
    "hw_list = np.array([\n",
    "            0, 1, 1, 2, 1, 2, 2, 3, 1, 2, 2, 3, 2, 3, 3, 4, 1, 2, 2, 3, 2, 3, 3, 4, 2, 3, 3, 4, 3, 4, 4, 5, \n",
    "            1, 2, 2, 3, 2, 3, 3, 4, 2, 3, 3, 4, 3, 4, 4, 5, 2, 3, 3, 4, 3, 4, 4, 5, 3, 4, 4, 5, 4, 5, 5, 6, \n",
    "            1, 2, 2, 3, 2, 3, 3, 4, 2, 3, 3, 4, 3, 4, 4, 5, 2, 3, 3, 4, 3, 4, 4, 5, 3, 4, 4, 5, 4, 5, 5, 6, \n",
    "            2, 3, 3, 4, 3, 4, 4, 5, 3, 4, 4, 5, 4, 5, 5, 6, 3, 4, 4, 5, 4, 5, 5, 6, 4, 5, 5, 6, 5, 6, 6, 7, \n",
    "            1, 2, 2, 3, 2, 3, 3, 4, 2, 3, 3, 4, 3, 4, 4, 5, 2, 3, 3, 4, 3, 4, 4, 5, 3, 4, 4, 5, 4, 5, 5, 6,\n",
    "            2, 3, 3, 4, 3, 4, 4, 5, 3, 4, 4, 5, 4, 5, 5, 6, 3, 4, 4, 5, 4, 5, 5, 6, 4, 5, 5, 6, 5, 6, 6, 7,\n",
    "            2, 3, 3, 4, 3, 4, 4, 5, 3, 4, 4, 5, 4, 5, 5, 6, 3, 4, 4, 5, 4, 5, 5, 6, 4, 5, 5, 6, 5, 6, 6, 7,\n",
    "            3, 4, 4, 5, 4, 5, 5, 6, 4, 5, 5, 6, 5, 6, 6, 7, 4, 5, 5, 6, 5, 6, 6, 7, 5, 6, 6, 7, 6, 7, 7, 8\n",
    "            ])\n",
    "# Number of combinations for each Hamming weight\n",
    "hw_combinations = np.array([1, 8, 28, 56, 70, 56, 28, 8, 1])"
   ]
  },
  {
   "cell_type": "code",
   "execution_count": 3,
   "id": "9e44bc8c",
   "metadata": {},
   "outputs": [
    {
     "name": "stdout",
     "output_type": "stream",
     "text": [
      "Reading traces/CWNANO_TINYAES128C_30000_randkey.cwp...\n",
      "Number of traces = 30000, trace length = 5000\n"
     ]
    }
   ],
   "source": [
    "SCOPETYPE = 'CWNANO'\n",
    "PLATFORM = 'CWNANO'\n",
    "CRYPTO_TARGET = 'TINYAES128C'\n",
    "VERSION = 'HARDWARE'\n",
    "SS_VER = 'SS_VER_1_1'\n",
    "\n",
    "trace_num = 30000  # Number of traces\n",
    "\n",
    "project_file_name = f\"traces/CWNANO_{CRYPTO_TARGET}_{trace_num}_randkey.cwp\"\n",
    "print(f'Reading {project_file_name}...')\n",
    "proj = cw.open_project(project_file_name)\n",
    "\n",
    "t = np.array(proj.waves)\n",
    "p = np.array(proj.textins)\n",
    "k = np.array(proj.keys)\n",
    "c = np.array(proj.textouts)\n",
    "\n",
    "num_traces = t.shape[0]\n",
    "trace_length = t.shape[1]\n",
    "print(f'Number of traces = {num_traces}, trace length = {trace_length}')"
   ]
  },
  {
   "cell_type": "code",
   "execution_count": 4,
   "id": "1e001c7d",
   "metadata": {},
   "outputs": [
    {
     "name": "stdout",
     "output_type": "stream",
     "text": [
      "Reading traces/CWNANO_TINYAES128C_30000_fixedkey.cwp...\n",
      "Number of traces = 30000, trace length = 5000\n"
     ]
    }
   ],
   "source": [
    "SCOPETYPE = 'CWNANO'\n",
    "PLATFORM = 'CWNANO'\n",
    "CRYPTO_TARGET = 'TINYAES128C'\n",
    "VERSION = 'HARDWARE'\n",
    "SS_VER = 'SS_VER_1_1'\n",
    "\n",
    "trace_num = 30000  # Number of traces\n",
    "\n",
    "project_file_name = f\"traces/CWNANO_{CRYPTO_TARGET}_{trace_num}_fixedkey.cwp\"\n",
    "print(f'Reading {project_file_name}...')\n",
    "proj = cw.open_project(project_file_name)\n",
    "\n",
    "attack_t = np.array(proj.waves)\n",
    "attack_p = np.array(proj.textins)\n",
    "attack_k = np.array(proj.keys)\n",
    "attack_c = np.array(proj.textouts)\n",
    "\n",
    "num_traces = t.shape[0]\n",
    "trace_length = t.shape[1]\n",
    "print(f'Number of traces = {num_traces}, trace length = {trace_length}')"
   ]
  },
  {
   "cell_type": "code",
   "execution_count": 5,
   "id": "60f59c35",
   "metadata": {},
   "outputs": [
    {
     "name": "stdout",
     "output_type": "stream",
     "text": [
      "(30000, 5000)\n",
      "(30000, 16)\n",
      "(30000, 16)\n",
      "(30000, 16)\n"
     ]
    }
   ],
   "source": [
    "print(t.shape)\n",
    "print(p.shape)\n",
    "print(k.shape)\n",
    "print(c.shape)"
   ]
  },
  {
   "cell_type": "code",
   "execution_count": 6,
   "id": "0ce2079a",
   "metadata": {},
   "outputs": [
    {
     "name": "stdout",
     "output_type": "stream",
     "text": [
      "34\n",
      "43\n"
     ]
    }
   ],
   "source": [
    "print(p[0][0])\n",
    "print(k[0][0])\n",
    "target = hw_list[AES_Sbox[p ^ k]]"
   ]
  },
  {
   "cell_type": "code",
   "execution_count": 7,
   "id": "1d6e1e6a",
   "metadata": {},
   "outputs": [],
   "source": [
    "group_count = np.zeros((16, 9), dtype=np.uint32)\n",
    "t_sum = np.zeros((16, 9, trace_length))\n",
    "t_sum2 = np.zeros((16, 9, trace_length))\n",
    "\n",
    "for i in range(trace_num):\n",
    "    for b in range(16):\n",
    "        h = target[i][b]\n",
    "        t_sum[b][h] +=t[i]\n",
    "        t_sum2[b][h] +=t[i] ** 2\n",
    "        group_count[b][h] += 1"
   ]
  },
  {
   "cell_type": "code",
   "execution_count": 8,
   "id": "2cfc1ad1",
   "metadata": {},
   "outputs": [
    {
     "name": "stdout",
     "output_type": "stream",
     "text": [
      "[[ 111]\n",
      " [ 962]\n",
      " [3221]\n",
      " [6569]\n",
      " [8188]\n",
      " [6680]\n",
      " [3233]\n",
      " [ 946]\n",
      " [  90]]\n",
      "(9, 5000)\n"
     ]
    }
   ],
   "source": [
    "print(group_count[0].reshape(9, 1))\n",
    "print(t_sum[0].shape)"
   ]
  },
  {
   "cell_type": "code",
   "execution_count": 9,
   "id": "1135799b",
   "metadata": {},
   "outputs": [],
   "source": [
    "signal = np.zeros((16, trace_length))\n",
    "noise = np.zeros((16, trace_length))\n",
    "\n",
    "for b in range(16):\n",
    "    divisor = group_count[b].reshape(9, 1)\n",
    "    mean_trace = t_sum[b] / divisor\n",
    "    var_trace = t_sum2[b] / divisor - mean_trace ** 2\n",
    "    \n",
    "    mean_sum2 = np.zeros((1, trace_length))\n",
    "        \n",
    "    for i in range(9):\n",
    "        mean_sum2 += mean_trace[i] ** 2 * group_count[b, i]\n",
    "        \n",
    "    signal[b] = mean_sum2 / trace_num - (np.sum(t_sum[b], 0) / trace_num) ** 2\n",
    "    noise[b] = np.average(var_trace, axis=0, weights=group_count[b].flatten())\n",
    "    \n",
    "snr = signal / noise"
   ]
  },
  {
   "cell_type": "code",
   "execution_count": 10,
   "id": "244716af",
   "metadata": {},
   "outputs": [
    {
     "data": {
      "text/plain": [
       "<function matplotlib.pyplot.show(close=None, block=None)>"
      ]
     },
     "execution_count": 10,
     "metadata": {},
     "output_type": "execute_result"
    },
    {
     "data": {
      "image/png": "[encoded data removed]",
      "text/plain": [
       "<Figure size 864x648 with 16 Axes>"
      ]
     },
     "metadata": {
      "needs_background": "light"
     },
     "output_type": "display_data"
    }
   ],
   "source": [
    "import matplotlib.pyplot as plt\n",
    "plt.figure(figsize=(12, 9))\n",
    "\n",
    "for j in range(16):\n",
    "    plt.subplot(4, 4, j + 1)\n",
    "    plt.plot(snr[j][:5000].T)\n",
    "\n",
    "plt.show"
   ]
  },
  {
   "cell_type": "code",
   "execution_count": 11,
   "id": "fc518627",
   "metadata": {},
   "outputs": [
    {
     "data": {
      "text/plain": [
       "<function matplotlib.pyplot.show(close=None, block=None)>"
      ]
     },
     "execution_count": 11,
     "metadata": {},
     "output_type": "execute_result"
    },
    {
     "data": {
      "image/png": "[encoded data removed]",
      "text/plain": [
       "<Figure size 864x648 with 16 Axes>"
      ]
     },
     "metadata": {
      "needs_background": "light"
     },
     "output_type": "display_data"
    }
   ],
   "source": [
    "import matplotlib.pyplot as plt\n",
    "plt.figure(figsize=(12, 9))\n",
    "\n",
    "for j in range(16):\n",
    "    plt.subplot(4, 4, j + 1)\n",
    "    plt.plot(snr[j][400:700].T)\n",
    "\n",
    "plt.show"
   ]
  },
  {
   "cell_type": "code",
   "execution_count": 12,
   "id": "f5858df1",
   "metadata": {},
   "outputs": [
    {
     "name": "stdout",
     "output_type": "stream",
     "text": [
      "[-8854.75689041 -8841.29405162 -8746.38112104 -8811.66243872\n",
      " -8786.72330714 -8850.31206583 -8816.85653172 -8839.69768212\n",
      " -8818.86993672 -8784.34216737 -8845.69841287 -8808.48073827\n",
      " -8813.65773615 -8832.76898188 -8796.8412576  -8753.88039497\n",
      " -8886.9625335  -8817.88899259 -8776.36012249 -8793.50720783\n",
      " -8788.58010862 -8755.66892706 -8815.80428077 -8807.63944981\n",
      " -8769.66976217 -8787.43385594 -8792.24372039 -8865.68917799\n",
      " -8790.52450597 -8810.84937035 -8808.32878746 -8888.42868134\n",
      " -8844.6582749  -8852.59610454 -8788.84602138 -8800.66498377\n",
      " -8779.54279038 -8857.07409564 -8783.08004799 -8824.85759479\n",
      " -8842.05390636 -8795.45415227 -8821.12524965 -8795.68139251\n",
      " -8816.49087984 -8774.68261472 -8815.98390336 -8831.37224111\n",
      " -8787.01618735 -8742.79799174 -8816.27421643 -8835.95821969\n",
      " -8811.96003329 -8739.01331135 -8769.26160734 -8793.71143457\n",
      " -8756.19731854 -8793.25990609 -8790.69367335 -8743.2868496\n",
      " -8700.85727967 -8771.94918213 -8810.95830817 -8810.71736867\n",
      " -8761.13312393 -8843.56333585 -8817.25007138 -8831.97294932\n",
      " -8811.83213112 -8862.76719334 -8814.16958232 -8776.2842662\n",
      " -8769.9254472  -8786.18308778 -8769.27449521 -8843.57614909\n",
      " -8777.54511748 -8795.78799922 -8809.86213467 -8815.42317722\n",
      " -8752.02903048 -8769.00605544 -8777.03347181 -8776.09606031\n",
      " -8809.03238838 -8831.81608964 -8848.53259299 -8814.03826086\n",
      " -8838.57532801 -8761.79073188 -8736.47044102 -8802.46434678\n",
      " -8811.89030819 -8771.05557263 -8759.20670683 -8804.31858676\n",
      " -8732.54621006 -8796.8809255  -8832.40304436 -8775.72790502\n",
      " -8813.99577372 -8836.64900371 -8851.73853863 -8785.61444475\n",
      " -8838.28967997 -8823.64730809 -8793.83999604 -8804.95306262\n",
      " -8827.35345748 -8780.84185453 -8798.47460988 -8772.51251938\n",
      " -8838.01831596 -8855.36161    -8851.54759788 -8844.79488396\n",
      " -8812.24268498 -8834.62953815 -8824.21506707 -8829.25782686\n",
      " -8859.32325892 -8806.91775942 -8759.96893924 -8825.17143824\n",
      " -8886.85552798 -8792.98204968 -8788.80081906 -8838.69509828\n",
      " -8817.10454936 -8825.95096702 -8838.63369986 -8853.02167933\n",
      " -8783.24542936 -8747.63893791 -8797.53780736 -8778.57979561\n",
      " -8827.87232449 -8823.06398128 -8821.86745329 -8835.29668379\n",
      " -8776.36211082 -8813.92615022 -8827.48299624 -8872.05286178\n",
      " -8781.4339995  -8838.77714335 -8783.70926394 -8842.73142473\n",
      " -8808.15901944 -8822.97254917 -8825.13981148 -8804.92269843\n",
      " -8819.66301421 -8752.94514361 -8805.47416362 -8809.07809711\n",
      " -8823.09130685 -8782.40253297 -8774.24735018 -8835.65711549\n",
      " -8831.72311444 -8750.71645098 -8819.3173574  -8784.66105353\n",
      " -8837.95725755 -8766.47223457 -8821.24910706 -8837.62266589\n",
      " -8864.0491333  -8823.57728625 -8742.91658831 -8807.91506153\n",
      " -8811.13356913 -8758.67117029 -8788.29945106 -8902.54279866\n",
      " -8835.34382522 -8848.68684682 -8800.82024403 -8809.99055875\n",
      " -8809.6442681  -8789.48805518 -8785.60378706 -8815.64984747\n",
      " -8805.03527335 -8884.37264868 -8851.39669479 -8829.76252185\n",
      " -8826.85337188 -8854.52710135 -8758.07100068 -8827.60989064\n",
      " -8797.74133099 -8789.84947081 -8782.30165737 -8802.09776088\n",
      " -8819.93928274 -8820.29169906 -8790.43074858 -8779.32275244\n",
      " -8845.52586515 -8862.31903397 -8840.3408463  -8844.52330276\n",
      " -8804.55494991 -8784.72849591 -8814.80748008 -8805.49582606\n",
      " -8773.69376902 -8820.03491257 -8834.48595179 -8795.85128567\n",
      " -8803.43777423 -8832.25188599 -8775.52921389 -8764.33110104\n",
      " -8781.23542374 -8797.38607869 -8782.27073935 -8800.72690814\n",
      " -8807.5837267  -8781.22476621 -8814.6988751  -8837.09365702\n",
      " -8821.45012    -8862.55332427 -8797.08106333 -8792.61473163\n",
      " -8821.89724504 -8809.00614758 -8789.94672156 -8847.19915851\n",
      " -8735.55228507 -8807.7729227  -8785.44240896 -8826.37463566\n",
      " -8832.81459658 -8776.95839835 -8755.24316711 -8832.39192804\n",
      " -8798.34976634 -8806.46413808 -8839.76667651 -8748.6979657\n",
      " -8814.83488256 -8817.31201816 -8820.88084049 -8830.34804548\n",
      " -8795.09735714 -8890.70971967 -8787.44249554 -8871.62668437\n",
      " -8833.74138454 -8809.86077914 -8775.34050368 -8780.9740772 ]\n"
     ]
    }
   ],
   "source": [
    "target = hw_list[AES_Sbox[p ^ k]]\n",
    "poi_index = np.argsort(snr, axis=1)[:,-10:]\n",
    "\n",
    "for b in range(16):\n",
    "    poi = t[:, poi_index[b]]\n",
    "    m = np.zeros((9, 10))\n",
    "    cov = np.zeros((9, 10, 10))\n",
    "    for i in range(9):\n",
    "        g = poi[target[:, b] == i, :]\n",
    "        m[i] = np.mean(g, axis=0)\n",
    "        cov[i] = np.cov(g, rowvar=0)\n",
    "    \n",
    "    attack_poi = attack_t[:, poi_index[b]]\n",
    "    hw_log_prob = np.zeros(9)\n",
    "    key_log_prob = np.zeros(256)\n",
    "    \n",
    "    for i in range(100):\n",
    "        for j in range(9):\n",
    "\n",
    "            hw_log_prob[j] = np.log(multivariate_normal.pdf(attack_poi[i], mean=m[j], cov=cov[j]) / hw_combinations[j] + 1e-40)\n",
    "            \n",
    "        key_log_prob += hw_log_prob[hw_list[AES_Sbox[np.arange(256)^attack_p[i, b]]]]\n",
    "\n",
    "print(key_log_prob)"
   ]
  },
  {
   "cell_type": "code",
   "execution_count": null,
   "id": "030982b2",
   "metadata": {},
   "outputs": [],
   "source": []
  }
 ],
 "metadata": {
  "kernelspec": {
   "display_name": "Python 3 (ipykernel)",
   "language": "python",
   "name": "python3"
  },
  "language_info": {
   "codemirror_mode": {
    "name": "ipython",
    "version": 3
   },
   "file_extension": ".py",
   "mimetype": "text/x-python",
   "name": "python",
   "nbconvert_exporter": "python",
   "pygments_lexer": "ipython3",
   "version": "3.7.7"
  }
 },
 "nbformat": 4,
 "nbformat_minor": 5
}
